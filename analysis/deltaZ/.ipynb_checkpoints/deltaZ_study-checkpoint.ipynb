{
 "cells": [
  {
   "cell_type": "code",
   "execution_count": 1,
   "id": "2965097c-ba77-4731-a7fe-b55163561d2b",
   "metadata": {},
   "outputs": [
    {
     "name": "stdout",
     "output_type": "stream",
     "text": [
      "Welcome to JupyROOT 6.28/06\n"
     ]
    }
   ],
   "source": [
    "import ROOT as r\n",
    "import uproot \n",
    "import awkward as ak\n",
    "import mpl_plot_utilities as mplutils\n",
    "import hist\n",
    "from hist import Hist\n",
    "import numpy as np\n",
    "import matplotlib.pyplot as plt\n",
    "import matplotlib as mpl\n",
    "from copy import deepcopy as copy"
   ]
  },
  {
   "cell_type": "code",
   "execution_count": 12,
   "id": "56670e44-3313-4712-babc-82fc345514ac",
   "metadata": {},
   "outputs": [],
   "source": [
    "#sig_arrs = mplutils.readTBranchAwk(sig_fname, subdir, treename, branches)\n",
    "branches = [\"unc_vtx_mass\",\"unc_vtx_z\",\"unc_vtx_proj_sig\",\"unc_vtx_deltaZ\",\"unc_vtx_ele_track_z0\",\"unc_vtx_pos_track_z0\",\"unc_vtx_ele_track_tanLambda\",\"unc_vtx_pos_track_tanLambda\",\"hitCode\"] "
   ]
  },
  {
   "cell_type": "code",
   "execution_count": 23,
   "id": "eff3b445-0ad2-4efd-a485-1b0e80388c45",
   "metadata": {},
   "outputs": [],
   "source": [
    "#Save output\n",
    "outfile = r.TFile('deltaz_analysis.root',\"RECREATE\")"
   ]
  },
  {
   "cell_type": "code",
   "execution_count": 24,
   "id": "63fcaf9e-273e-4eb1-9467-7eb58c315903",
   "metadata": {},
   "outputs": [
    {
     "name": "stdout",
     "output_type": "stream",
     "text": [
      "\n",
      "****************************************\n",
      "Minimizer is Minuit / Migrad\n",
      "Chi2                      =  7.06027e+06\n",
      "NDf                       =         5792\n",
      "Edm                       =  5.70067e-15\n",
      "NCalls                    =           34\n",
      "p0                        =       1.9393   +/-   0.131101    \n",
      "p1                        =    -0.908799   +/-   0.00533013  \n"
     ]
    },
    {
     "name": "stderr",
     "output_type": "stream",
     "text": [
      "Info in <TCanvas::Print>: png file z0tanl_sig_hh.png has been created\n",
      "Info in <TCanvas::Print>: png file z0tanl_sig_h.png has been created\n",
      "Info in <TCanvas::Print>: png file deltaz_sig_h.png has been created\n",
      "Warning in <TCanvas::Constructor>: Deleting canvas with same name: deltaz_sig_badL1L1_hh\n",
      "Info in <TCanvas::Print>: png file deltaz_sig_badL1L1_hh.png has been created\n"
     ]
    }
   ],
   "source": [
    "#Read Signal\n",
    "sig_fname = '/sdf/group/hps/users/alspellm/projects/THESIS/mc/2016/simps/signal_beam/20230713_slic/20230713_readout/hps-java-v5pt2pt2/recon_20231026/ana_20231026/hadd_simp_55_mev_beam_5pt2pt2_ana.root'\n",
    "subdir = 'vtxana_radMatchTight_2016_simp_reach_SR'\n",
    "treename = f'{subdir}_tree'\n",
    "sig_tree = mplutils.readTBranchAwk(sig_fname, subdir, treename, branches)\n",
    "\n",
    "# Convert the filtered array to a NumPy array\n",
    "ztarg = -4.3 #mm\n",
    "recon_z = np.array(sig_tree[\"unc_vtx_z\"])\n",
    "ele_z0 = np.array(sig_tree[\"unc_vtx_ele_track_z0\"])\n",
    "pos_z0 = np.array(sig_tree[\"unc_vtx_pos_track_z0\"])\n",
    "ele_tanl = np.array(sig_tree[\"unc_vtx_ele_track_tanLambda\"])\n",
    "pos_tanl = np.array(sig_tree[\"unc_vtx_pos_track_tanLambda\"])\n",
    "hitcode = np.array(sig_tree[\"hitCode\"])\n",
    "\n",
    "z0tanl_hh = r.TH2F('z0tanl_sig_hh','-z0/tan(#lambda) vs recon z; -z0/tanl(#lambda) [mm]; recon z [mm]', 400, -100.0,100.0, 180,-20.0,70.0)\n",
    "z0tanl_h = r.TH1F('z0tanl_sig_h','-(z0/tan(#lambda)):(recon z); -(z0/tan(#lambda)):recon_z',500,-5.0,5.0)\n",
    "deltaz_hh = r.TH2F('deltaz_sig_hh','#DeltaZ vs recon z; #DeltaZ[mm]; recon z [mm]', 200, 0.0,100.0, 180,-20.0,70.0)\n",
    "deltaz_badL1L1_hh = r.TH2F('deltaz_sig_badL1L1_hh','#DeltaZ vs recon z; #DeltaZ[mm]; recon z [mm]', 200, 0.0,100.0, 180,-20.0,70.0)\n",
    "for i,z in enumerate(recon_z):\n",
    "    z0tanl_hh.Fill(ele_z0[i]/ele_tanl[i], z-ztarg)\n",
    "    z0tanl_hh.Fill(pos_z0[i]/pos_tanl[i], z-ztarg)\n",
    "    z0tanl_h.Fill(-(ele_z0[i]/ele_tanl[i])/(z-ztarg))\n",
    "    z0tanl_h.Fill(-(pos_z0[i]/pos_tanl[i])/(z-ztarg))\n",
    "    deltaZ = abs(-(pos_z0[i]/pos_tanl[i]) - -(ele_z0[i]/ele_tanl[i]))\n",
    "    deltaz_hh.Fill(deltaZ, z)\n",
    "    \n",
    "    if hitcode[i] < 15:\n",
    "        deltaz_badL1L1_hh.Fill(deltaZ, z)\n",
    "    \n",
    "outfile.cd()\n",
    "func = r.TF1('line', '[0] + x*[1]',-50.0,0.0)\n",
    "c = r.TCanvas('z0tanl_sig_hh','z0tanl_sig_hh',2400,1400)\n",
    "c.cd()\n",
    "z0tanl_hh.Fit(func,\"\",\"\",-50.0,0.0)\n",
    "z0tanl_hh.Draw(\"colz\")\n",
    "outfile.cd()\n",
    "z0tanl_hh.Write()\n",
    "func.Write()\n",
    "c.Write()\n",
    "c.SaveAs(f'{c.GetName()}.png')\n",
    "\n",
    "c = r.TCanvas('z0tanl_sig_h','z0tanl_sig_h',2400,1400)\n",
    "c.cd()\n",
    "z0tanl_h.Draw()\n",
    "z0tanl_h.Write()\n",
    "c.Write()\n",
    "c.SaveAs(f'{c.GetName()}.png')\n",
    "\n",
    "c = r.TCanvas('deltaz_sig_h','deltaz_sig_h',2400,1400)\n",
    "c.cd()\n",
    "deltaz_hh.Draw(\"colz\")\n",
    "deltaz_hh.Write()\n",
    "c.Write()\n",
    "c.SaveAs(f'{c.GetName()}.png')\n",
    "\n",
    "c = r.TCanvas('deltaz_sig_badL1L1_hh','deltaz_sig_badL1L1_h',2400,1400)\n",
    "c.cd()\n",
    "deltaz_badL1L1_hh.Draw(\"colz\")\n",
    "deltaz_badL1L1_hh.Write()\n",
    "c.Write()\n",
    "c.SaveAs(f'{c.GetName()}.png')\n"
   ]
  },
  {
   "cell_type": "code",
   "execution_count": 25,
   "id": "a0ea8229-a4c7-4c3c-a383-32dd21866e8c",
   "metadata": {},
   "outputs": [],
   "source": [
    "#Read Tritrig MC\n",
    "tt_fname = '/sdf/group/hps/users/alspellm/projects/THESIS/analysis/data_mc_comparisons/update_20230112/new_smearing/hadd_tritrig_beam_10k_files.root'\n",
    "#tt_fname = '/sdf/group/hps/users/alspellm/projects/THESIS/data/2016/BLPass4c_20231006/ana_20231019/full_hadd_blpass4c_ana.root'\n",
    "#branches = [\"unc_vtx_mass\",\"unc_vtx_z\",\"unc_vtx_proj_sig\",\"unc_vtx_deltaZ\",\"unc_vtx_ele_track_z0\",\"unc_vtx_pos_track_z0\",\"unc_vtx_ele_track_tanLambda\",\"unc_vtx_pos_track_tanLambda\"] \n",
    "subdir = 'vtxana_Tight_L1L1_nvtx1'\n",
    "#subdir = 'vtxana_Tight_2016_simp_reach_SR'\n",
    "treename = f'{subdir}_tree'\n",
    "tt_tree = mplutils.readTBranchAwk(tt_fname, subdir, treename, branches)\n",
    "\n",
    "# Convert the filtered array to a NumPy array\n",
    "ztarg = -4.3 #mm\n",
    "#condition = tt_tree[\"hitCode\"] > 14\n",
    "#tt_tree_filt = tt_tree[condition]\n",
    "tt_tree_filt = tt_tree\n",
    "recon_z = np.array(tt_tree_filt[\"unc_vtx_z\"])\n",
    "ele_z0 = np.array(tt_tree_filt[\"unc_vtx_ele_track_z0\"])\n",
    "pos_z0 = np.array(tt_tree_filt[\"unc_vtx_pos_track_z0\"])\n",
    "ele_tanl = np.array(tt_tree_filt[\"unc_vtx_ele_track_tanLambda\"])\n",
    "pos_tanl = np.array(tt_tree_filt[\"unc_vtx_pos_track_tanLambda\"])\n",
    "hitcode = np.array(tt_tree_filt[\"hitCode\"])\n",
    "ele_z0err = np.array(tt_tree_filt[\"unc_vtx_ele_track_z0Err\"])\n",
    "pos_z0err = np.array(tt_tree_filt[\"unc_vtx_pos_track_z0Err\"])"
   ]
  },
  {
   "cell_type": "code",
   "execution_count": 26,
   "id": "99b98dec-5999-4d5d-8f63-0dde1a4c8a86",
   "metadata": {},
   "outputs": [],
   "source": [
    "z0tanl_hh = r.TH2F('z0tanl_tritrig_hh','-z0/tan(#lambda) vs recon z; -z0/tanl(#lambda) [mm]; recon z [mm]', 500, -100.0,100.0, 360,-20.0,70.0)\n",
    "z0tanl_h = r.TH1F('z0tanl_tritrig_h','-(z0/tan(#lambda)):(recon z); -(z0/tan(#lambda)):recon_z',100,-5.0,5.0)\n",
    "z0tanl_prompt_h = r.TH1F('z0tanl_tritrig_prompt_h','Prompt -(z0/tan(#lambda)):(recon z); -(z0/tan(#lambda)):recon_z',100,-5.0,5.0)\n",
    "z0tanl_long_h = r.TH1F('z0tanl_tritrig_long_h','Long Lived -(z0/tan(#lambda)):(recon z); -(z0/tan(#lambda)):recon_z',100,-5.0,5.0)\n",
    "deltaz_hh = r.TH2F('deltaz_tritrig_hh','#DeltaZ vs recon z; #DeltaZ[mm]; recon z [mm]', 200, 0.0,100.0, 180,-20.0,70.0)\n",
    "deltaz_badL1L1_hh = r.TH2F('deltaz_tritrig_badL1L1_hh','#DeltaZ vs recon z; #DeltaZ[mm]; recon z [mm]', 200, 0.0,100.0, 180,-20.0,70.0)\n",
    "deltaz_goodL1L1_hh = r.TH2F('deltaz_tritrig_goodL1L1_hh','#DeltaZ vs recon z; #DeltaZ[mm]; recon z [mm]', 200, 0.0,100.0, 180,-20.0,70.0)\n",
    "for i,z in enumerate(recon_z):\n",
    "    z0tanl_hh.Fill(-(ele_z0[i]/ele_tanl[i]), z-ztarg)\n",
    "    z0tanl_hh.Fill(-(pos_z0[i]/pos_tanl[i]), z-ztarg)\n",
    "    deltaZ = abs(-(pos_z0[i]/pos_tanl[i]) - -(ele_z0[i]/ele_tanl[i]))\n",
    "    deltaz_hh.Fill(deltaZ, z)\n",
    "    \n",
    "    if hitcode[i] < 15:\n",
    "        deltaz_badL1L1_hh.Fill(deltaZ, z)\n",
    "    if hitcode[i] == 15:\n",
    "        deltaz_goodL1L1_hh.Fill(deltaZ, z)\n",
    "        \n",
    "    \n",
    "    z0tanl_h.Fill(-(ele_z0[i]/ele_tanl[i])/(z-ztarg))\n",
    "    z0tanl_h.Fill(-(pos_z0[i]/pos_tanl[i])/(z-ztarg))\n",
    "    \n",
    "    #prompt\n",
    "    if z > -3.0 and z < 3.0:\n",
    "        z0tanl_prompt_h.Fill(-(ele_z0[i]/ele_tanl[i])/(z-ztarg))\n",
    "        z0tanl_prompt_h.Fill(-(pos_z0[i]/pos_tanl[i])/(z-ztarg))\n",
    "    #long\n",
    "    if z > 8.0:\n",
    "        z0tanl_long_h.Fill(-(ele_z0[i]/ele_tanl[i])/(z-ztarg))\n",
    "        z0tanl_long_h.Fill(-(pos_z0[i]/pos_tanl[i])/(z-ztarg))\n",
    "    \n"
   ]
  },
  {
   "cell_type": "code",
   "execution_count": 29,
   "id": "6080d798-9823-4c04-bd34-ef5af10ce5ce",
   "metadata": {},
   "outputs": [
    {
     "name": "stderr",
     "output_type": "stream",
     "text": [
      "Warning in <TCanvas::Constructor>: Deleting canvas with same name: deltaz_tritrig_hh\n",
      "Info in <TCanvas::Print>: png file deltaz_tritrig_hh.png has been created\n",
      "Warning in <TCanvas::Constructor>: Deleting canvas with same name: deltaz_tritrig_badL1L1_hh\n",
      "Info in <TCanvas::Print>: png file deltaz_tritrig_badL1L1_hh.png has been created\n",
      "Info in <TCanvas::Print>: png file deltaz_tritrig_goodL1L1_hh.png has been created\n",
      "Warning in <TCanvas::Constructor>: Deleting canvas with same name: z0tanl_tritrig_hh\n",
      "Info in <TCanvas::Print>: png file z0tanl_tritrig_hh.png has been created\n",
      "Warning in <TCanvas::Constructor>: Deleting canvas with same name: z0tanl_tritrig_h\n",
      "Info in <TCanvas::Print>: png file z0tanl_tritrig_h.png has been created\n",
      "Warning in <TCanvas::Constructor>: Deleting canvas with same name: z0tanl_tritrig_prompt_h\n",
      "Info in <TCanvas::Print>: png file z0tanl_tritrig_prompt_h.png has been created\n",
      "Warning in <TCanvas::Constructor>: Deleting canvas with same name: z0tanl_tritrig_long_h\n",
      "Info in <TCanvas::Print>: png file z0tanl_tritrig_long_h.png has been created\n"
     ]
    }
   ],
   "source": [
    "c = r.TCanvas('deltaz_tritrig_hh','deltaz_tritrig_h',2400,1400)\n",
    "c.cd()\n",
    "deltaz_hh.Draw(\"colz\")\n",
    "deltaz_hh.Write()\n",
    "c.Write()\n",
    "c.SaveAs(f'{c.GetName()}.png')\n",
    "\n",
    "c = r.TCanvas('deltaz_tritrig_badL1L1_hh','deltaz_tritrig_badL1L1_h',2400,1400)\n",
    "c.cd()\n",
    "deltaz_badL1L1_hh.Draw(\"colz\")\n",
    "deltaz_badL1L1_hh.Write()\n",
    "c.Write()\n",
    "c.SaveAs(f'{c.GetName()}.png')\n",
    "\n",
    "c = r.TCanvas('deltaz_tritrig_goodL1L1_hh','deltaz_tritrig_goodL1L1_h',2400,1400)\n",
    "c.cd()\n",
    "deltaz_goodL1L1_hh.Draw(\"colz\")\n",
    "deltaz_goodL1L1_hh.Write()\n",
    "c.Write()\n",
    "c.SaveAs(f'{c.GetName()}.png')\n",
    "\n",
    "func = r.TF1('line', '[0] + x*[1]',-2.0,2.0)\n",
    "c = r.TCanvas('z0tanl_tritrig_hh','z0tanl_tritrig_hh',2400,1400)\n",
    "c.cd()\n",
    "#c.SetLogz()\n",
    "#z0tanl_hh.Fit(func,\"\",\"\",-10.0,10.0)\n",
    "z0tanl_hh.Draw(\"colz\")\n",
    "z0tanl_hh.Write()\n",
    "#func.Write()\n",
    "c.Write()\n",
    "c.SaveAs(f'{c.GetName()}.png')\n",
    "\n",
    "c = r.TCanvas('z0tanl_tritrig_h','z0tanl_tritrig_h',2400,1400)\n",
    "c.cd()\n",
    "z0tanl_h.Draw()\n",
    "z0tanl_h.Write()\n",
    "c.Write()\n",
    "c.SaveAs(f'{c.GetName()}.png')\n",
    "\n",
    "c = r.TCanvas('z0tanl_tritrig_prompt_h','z0tanl_tritrig_prompt_h',2400,1400)\n",
    "c.cd()\n",
    "z0tanl_prompt_h.Draw()\n",
    "z0tanl_prompt_h.Write()\n",
    "c.Write()\n",
    "c.SaveAs(f'{c.GetName()}.png')\n",
    "\n",
    "c = r.TCanvas('z0tanl_tritrig_long_h','z0tanl_tritrig_long_h',2400,1400)\n",
    "c.cd()\n",
    "z0tanl_long_h.Draw()\n",
    "z0tanl_long_h.Write()\n",
    "c.Write()\n",
    "c.SaveAs(f'{c.GetName()}.png')\n",
    "\n",
    "\n"
   ]
  },
  {
   "cell_type": "code",
   "execution_count": null,
   "id": "3e7f33e4-dcb7-4699-9876-3e85d8954209",
   "metadata": {},
   "outputs": [],
   "source": []
  },
  {
   "cell_type": "code",
   "execution_count": 8,
   "id": "95613184-50e0-4ec0-af10-a4a0945474b9",
   "metadata": {},
   "outputs": [],
   "source": [
    "#Read Signal Histograms from files\n",
    "infile = r.TFile(sig_fname, \"READ\")\n",
    "hist_name = 'vtxana_radMatchTight_2016_simp_reach_SR_vtx_track_recon_z_v_z0tanlambda_hh'\n",
    "z0tanL_v_z_hh = infile.Get(f'{subdir}/{hist_name}')\n",
    "\n",
    "hist_name = 'vtxana_radMatchTight_2016_simp_reach_SR_vtx_track_recon_z_v_ABSdz0tanlambda_hh'\n",
    "deltaz_v_z_hh = infile.Get(f'{subdir}/{hist_name}')\n",
    "\n",
    "#infile.Close()"
   ]
  },
  {
   "cell_type": "code",
   "execution_count": 9,
   "id": "325689a3-a575-44d6-9d07-2eb73d773a09",
   "metadata": {},
   "outputs": [
    {
     "ename": "AttributeError",
     "evalue": "'TObject' object has no attribute 'Fit'",
     "output_type": "error",
     "traceback": [
      "\u001b[0;31m---------------------------------------------------------------------------\u001b[0m",
      "\u001b[0;31mAttributeError\u001b[0m                            Traceback (most recent call last)",
      "\u001b[0;32m<ipython-input-9-b93612c2e6af>\u001b[0m in \u001b[0;36m<module>\u001b[0;34m\u001b[0m\n\u001b[1;32m      1\u001b[0m \u001b[0;31m#Fit Signal z0tanlambda\u001b[0m\u001b[0;34m\u001b[0m\u001b[0;34m\u001b[0m\u001b[0;34m\u001b[0m\u001b[0m\n\u001b[1;32m      2\u001b[0m \u001b[0mfunc\u001b[0m \u001b[0;34m=\u001b[0m \u001b[0mr\u001b[0m\u001b[0;34m.\u001b[0m\u001b[0mTF1\u001b[0m\u001b[0;34m(\u001b[0m\u001b[0;34m'line'\u001b[0m\u001b[0;34m,\u001b[0m \u001b[0;34m'[0] + x*[1]'\u001b[0m\u001b[0;34m,\u001b[0m\u001b[0;34m-\u001b[0m\u001b[0;36m50.0\u001b[0m\u001b[0;34m,\u001b[0m\u001b[0;36m0.0\u001b[0m\u001b[0;34m)\u001b[0m\u001b[0;34m\u001b[0m\u001b[0;34m\u001b[0m\u001b[0m\n\u001b[0;32m----> 3\u001b[0;31m \u001b[0mz0tanL_v_z_hh\u001b[0m\u001b[0;34m.\u001b[0m\u001b[0mFit\u001b[0m\u001b[0;34m(\u001b[0m\u001b[0mfunc\u001b[0m\u001b[0;34m,\u001b[0m\u001b[0;34m\"\"\u001b[0m\u001b[0;34m,\u001b[0m\u001b[0;34m\"\"\u001b[0m\u001b[0;34m,\u001b[0m\u001b[0;34m-\u001b[0m\u001b[0;36m40.0\u001b[0m\u001b[0;34m,\u001b[0m\u001b[0;36m0.0\u001b[0m\u001b[0;34m)\u001b[0m\u001b[0;34m\u001b[0m\u001b[0;34m\u001b[0m\u001b[0m\n\u001b[0m\u001b[1;32m      4\u001b[0m \u001b[0mc\u001b[0m \u001b[0;34m=\u001b[0m \u001b[0mr\u001b[0m\u001b[0;34m.\u001b[0m\u001b[0mTCanvas\u001b[0m\u001b[0;34m(\u001b[0m\u001b[0;34m'sig_z0tanL_fit'\u001b[0m\u001b[0;34m,\u001b[0m\u001b[0;34m'sig_z0tanL_fit'\u001b[0m\u001b[0;34m,\u001b[0m\u001b[0;36m2400\u001b[0m\u001b[0;34m,\u001b[0m\u001b[0;36m1400\u001b[0m\u001b[0;34m)\u001b[0m\u001b[0;34m\u001b[0m\u001b[0;34m\u001b[0m\u001b[0m\n\u001b[1;32m      5\u001b[0m \u001b[0mc\u001b[0m\u001b[0;34m.\u001b[0m\u001b[0mcd\u001b[0m\u001b[0;34m(\u001b[0m\u001b[0;34m)\u001b[0m\u001b[0;34m\u001b[0m\u001b[0;34m\u001b[0m\u001b[0m\n",
      "\u001b[0;31mAttributeError\u001b[0m: 'TObject' object has no attribute 'Fit'"
     ]
    }
   ],
   "source": [
    "#Fit Signal z0tanlambda\n",
    "func = r.TF1('line', '[0] + x*[1]',-50.0,0.0)\n",
    "z0tanL_v_z_hh.Fit(func,\"\",\"\",-40.0,0.0)\n",
    "c = r.TCanvas('sig_z0tanL_fit','sig_z0tanL_fit',2400,1400)\n",
    "c.cd()\n",
    "z0tanL_v_z_hh.Draw(\"colz\")\n",
    "outfile.cd()\n",
    "c.Write()\n",
    "c.SaveAs('signal_z0tanL_fit.png')"
   ]
  },
  {
   "cell_type": "code",
   "execution_count": null,
   "id": "ac3ac47d-ffab-4149-b13d-4b34ecd2c5df",
   "metadata": {},
   "outputs": [],
   "source": [
    "#Read MC histograms\n",
    "tt_fname = '/sdf/group/hps/users/alspellm/projects/THESIS/analysis/data_mc_comparisons/update_20230112/new_smearing/hadd_tritrig_beam_10k_files.root'\n",
    "wab_fname = '/sdf/group/hps/users/alspellm/projects/THESIS/analysis/data_mc_comparisons/update_20230112/new_smearing/hadd_wab_beam_10k_files.root'\n",
    "subdir = 'vtxana_Tight_L1L1_nvtx1'\n",
    "treename = f'{subdir}_tree'\n",
    "infile = r.TFile(f'{tt_fname}',\"READ\")\n",
    "\n",
    "hist_name = 'vtxana_Tight_L1L1_nvtx1_vtx_track_recon_z_v_z0tanlambda_hh'\n",
    "tt_z0tanL_v_z_hh = copy(infile.Get(f'{subdir}/{hist_name}'))\n",
    "func1 = r.TF1('line', '[0] + x*[1]',-50.0,0.0)\n",
    "tt_z0tanL_v_z_hh.Fit(func1,\"\",\"\",-10.0,10.0)\n",
    "c = r.TCanvas('tt_z0tanL_fit','tt_z0tanL_fit',2400,1400)\n",
    "c.cd()\n",
    "c.SetLogz()\n",
    "tt_z0tanL_v_z_hh.Draw(\"colz\")\n",
    "c.SaveAs('tt_z0tanL_fit.png')"
   ]
  },
  {
   "cell_type": "code",
   "execution_count": null,
   "id": "fc74f181-8c4f-4f17-94e2-41ad2750e665",
   "metadata": {},
   "outputs": [],
   "source": [
    "tt_arrs = mplutils.readTBranchAwk(tt_fname, subdir, treename, branches)"
   ]
  },
  {
   "cell_type": "code",
   "execution_count": null,
   "id": "5797dcf7-3aaf-4ae0-b93a-7889a7b12757",
   "metadata": {},
   "outputs": [],
   "source": [
    "## Filter the array based on the condition\n",
    "condition = tt_arrs[\"unc_vtx_deltaZ\"] < 5.0\n",
    "filtered_array = tt_arrs[condition]\n",
    "# Convert the filtered array to a NumPy array\n",
    "recon_z = np.array(filtered_array[\"unc_vtx_z\"])\n",
    "ele_z0 = np.array(filtered_array[\"unc_vtx_ele_track_z0\"])\n",
    "pos_z0 = np.array(filtered_array[\"unc_vtx_pos_track_z0\"])\n",
    "ele_tanl = np.array(filtered_array[\"unc_vtx_ele_track_tanLambda\"])\n",
    "pos_tanl = np.array(filtered_array[\"unc_vtx_pos_track_tanLambda\"])"
   ]
  },
  {
   "cell_type": "code",
   "execution_count": null,
   "id": "7c623aa2-0c1c-49f8-8c5b-b1871954126f",
   "metadata": {},
   "outputs": [],
   "source": [
    "\n",
    "hh = r.TH2F('test_hh','test_hh',400,-200.0,200.0, 90,-20.0,70.0)"
   ]
  },
  {
   "cell_type": "code",
   "execution_count": null,
   "id": "37511366-3e08-4a98-b25a-9e8e561b1c64",
   "metadata": {},
   "outputs": [],
   "source": [
    "for i,z in enumerate(recon_z):\n",
    "    hh.Fill(ele_z0[i]/ele_tanl[i], z)\n",
    "    hh.Fill(pos_z0[i]/pos_tanl[i], z)"
   ]
  },
  {
   "cell_type": "code",
   "execution_count": null,
   "id": "145d24d7-ef41-4059-8e35-ed35505e64ac",
   "metadata": {},
   "outputs": [],
   "source": [
    "c = r.TCanvas('tt_z0tanl_good','tt_z0tanl_good',2400,1400)\n",
    "c.cd()\n",
    "c.SetLogz()\n",
    "hh.Fit(func1,\"\",\"\",-20.0,20.0)\n",
    "hh.Draw(\"colz\")\n",
    "c.SaveAs('test_tt.png')"
   ]
  },
  {
   "cell_type": "code",
   "execution_count": null,
   "id": "0ac20bb9-51c7-4d7b-a8ca-50978a8deb30",
   "metadata": {},
   "outputs": [],
   "source": []
  }
 ],
 "metadata": {
  "kernelspec": {
   "display_name": "Python 3",
   "language": "python",
   "name": "python3"
  },
  "language_info": {
   "codemirror_mode": {
    "name": "ipython",
    "version": 3
   },
   "file_extension": ".py",
   "mimetype": "text/x-python",
   "name": "python",
   "nbconvert_exporter": "python",
   "pygments_lexer": "ipython3",
   "version": "3.6.8"
  }
 },
 "nbformat": 4,
 "nbformat_minor": 5
}
