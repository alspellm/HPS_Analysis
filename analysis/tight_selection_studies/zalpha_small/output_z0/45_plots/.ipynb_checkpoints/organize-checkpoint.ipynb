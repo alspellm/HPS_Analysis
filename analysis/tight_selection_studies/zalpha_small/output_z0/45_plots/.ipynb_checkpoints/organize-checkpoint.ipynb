{
 "cells": [
  {
   "cell_type": "code",
   "execution_count": 2,
   "id": "7424aedf-3e14-42ec-9b23-dce0c0981200",
   "metadata": {},
   "outputs": [
    {
     "ename": "ModuleNotFoundError",
     "evalue": "No module named 'SimpEquations_validated'",
     "output_type": "error",
     "traceback": [
      "\u001b[0;31m---------------------------------------------------------------------------\u001b[0m",
      "\u001b[0;31mModuleNotFoundError\u001b[0m                       Traceback (most recent call last)",
      "\u001b[0;32m<ipython-input-4-fd8f2ec25f32>\u001b[0m in \u001b[0;36m<module>\u001b[0;34m\u001b[0m\n\u001b[1;32m     20\u001b[0m \u001b[0;31m#import mplhep\u001b[0m\u001b[0;34m\u001b[0m\u001b[0;34m\u001b[0m\u001b[0;34m\u001b[0m\u001b[0m\n\u001b[1;32m     21\u001b[0m \u001b[0;31m#mpl.style.use(mplhep.style.ROOT)\u001b[0m\u001b[0;34m\u001b[0m\u001b[0;34m\u001b[0m\u001b[0;34m\u001b[0m\u001b[0m\n\u001b[0;32m---> 22\u001b[0;31m \u001b[0;32mfrom\u001b[0m \u001b[0mSimpEquations_validated\u001b[0m \u001b[0;32mimport\u001b[0m \u001b[0mSimpEquations\u001b[0m \u001b[0;32mas\u001b[0m \u001b[0msimpeqs\u001b[0m\u001b[0;34m\u001b[0m\u001b[0;34m\u001b[0m\u001b[0m\n\u001b[0m\u001b[1;32m     23\u001b[0m \u001b[0;32mfrom\u001b[0m \u001b[0mmatplotlib\u001b[0m\u001b[0;34m.\u001b[0m\u001b[0mbackends\u001b[0m\u001b[0;34m.\u001b[0m\u001b[0mbackend_agg\u001b[0m \u001b[0;32mimport\u001b[0m \u001b[0mFigureCanvasAgg\u001b[0m \u001b[0;32mas\u001b[0m \u001b[0mFigureCanvas\u001b[0m\u001b[0;34m\u001b[0m\u001b[0;34m\u001b[0m\u001b[0m\n\u001b[1;32m     24\u001b[0m \u001b[0;32mfrom\u001b[0m \u001b[0mmatplotlib\u001b[0m\u001b[0;34m.\u001b[0m\u001b[0mfigure\u001b[0m \u001b[0;32mimport\u001b[0m \u001b[0mFigure\u001b[0m\u001b[0;34m\u001b[0m\u001b[0;34m\u001b[0m\u001b[0m\n",
      "\u001b[0;32m/sdf/group/hps/users/alspellm/src/root_src/root_install/lib/ROOT/_facade.py\u001b[0m in \u001b[0;36m_importhook\u001b[0;34m(name, *args, **kwds)\u001b[0m\n\u001b[1;32m    152\u001b[0m                 \u001b[0;32mexcept\u001b[0m \u001b[0mException\u001b[0m\u001b[0;34m:\u001b[0m\u001b[0;34m\u001b[0m\u001b[0;34m\u001b[0m\u001b[0m\n\u001b[1;32m    153\u001b[0m                     \u001b[0;32mpass\u001b[0m\u001b[0;34m\u001b[0m\u001b[0;34m\u001b[0m\u001b[0m\n\u001b[0;32m--> 154\u001b[0;31m             \u001b[0;32mreturn\u001b[0m \u001b[0m_orig_ihook\u001b[0m\u001b[0;34m(\u001b[0m\u001b[0mname\u001b[0m\u001b[0;34m,\u001b[0m \u001b[0;34m*\u001b[0m\u001b[0margs\u001b[0m\u001b[0;34m,\u001b[0m \u001b[0;34m**\u001b[0m\u001b[0mkwds\u001b[0m\u001b[0;34m)\u001b[0m\u001b[0;34m\u001b[0m\u001b[0;34m\u001b[0m\u001b[0m\n\u001b[0m\u001b[1;32m    155\u001b[0m         \u001b[0m__builtin__\u001b[0m\u001b[0;34m.\u001b[0m\u001b[0m__import__\u001b[0m \u001b[0;34m=\u001b[0m \u001b[0m_importhook\u001b[0m\u001b[0;34m\u001b[0m\u001b[0;34m\u001b[0m\u001b[0m\n\u001b[1;32m    156\u001b[0m \u001b[0;34m\u001b[0m\u001b[0m\n",
      "\u001b[0;31mModuleNotFoundError\u001b[0m: No module named 'SimpEquations_validated'"
     ]
    }
   ],
   "source": [
    "import os\n",
    "import uproot\n",
    "import ROOT as r\n",
    "import math\n",
    "import awkward as ak\n",
    "import hist\n",
    "from hist import Hist\n",
    "import sys\n",
    "import argparse\n",
    "import hist\n",
    "from hist import loc\n",
    "import numpy as np\n",
    "%matplotlib inline\n",
    "import matplotlib.pyplot as plt\n",
    "import matplotlib as mpl\n",
    "mpl.use('Agg')\n",
    "from matplotlib.backends.backend_pdf import PdfPages\n",
    "from SimpEquations_validated import SimpEquations as simpeqs\n",
    "from matplotlib.backends.backend_agg import FigureCanvasAgg as FigureCanvas\n",
    "from matplotlib.figure import Figure\n",
    "import mpl_plot_utilities as mplutils\n"
   ]
  },
  {
   "cell_type": "code",
   "execution_count": 7,
   "id": "b3e5b848-7fe6-49d3-b89b-0ecc759d9248",
   "metadata": {},
   "outputs": [],
   "source": [
    "def calculateZBi(n_on, n_off, tau):\n",
    "    P_Bi = r.TMath.BetaIncomplete(1./(1.+tau),n_on,n_off+1) #why plus 1?\n",
    "    Z_Bi = 2.**(0.5)*r.TMath.ErfInverse(1-2*P_Bi)\n",
    "    return Z_Bi\n",
    "    \n",
    "def radiativeFraction(mass_mev):\n",
    "    radF = -1.04206e-01 + 9.92547e-03*mass_mev + -1.99437e-04*pow(mass_mev,2) + 1.83534e-06*pow(mass_mev,3) + -7.93138e-9*pow(mass_mev,4) + 1.30456e-11*pow(mass_mev,5) #alic 2016 simps kf 11/15/22\n",
    "    return radF\n",
    "\n",
    "def radiativeAcceptance(mass_mev):\n",
    "    acc = ( -7.35934e-01 + 9.75402e-02*mass_mev + -5.22599e-03*pow(mass_mev,2) + 1.47226e-04*pow(mass_mev,3) + -2.41435e-06*pow(mass_mev,4) + 2.45015e-08*pow(mass_mev,5) + -1.56938e-10*pow(mass_mev,6) + 6.19494e-13*pow(mass_mev,7) + -1.37780e-15*pow(mass_mev,8) + 1.32155e-18*pow(mass_mev,9) ) #alic 2016 simps kf 11/15/22 \n",
    "    return acc\n",
    "\n",
    "#Calculated in 'makeMassRes.py'\n",
    "def massRes(mass):\n",
    "    res = 1.06314 + 3.45955e-02*mass + -6.62113e-05*pow(mass,2) # 2016 simps kf 11/15/22\n",
    "    return res\n",
    "\n",
    "#Calculate efficiency vertex\n",
    "def calculateTotalApProduction(mass_ap, eps, radFrac, radAcc, dNdm_CR):\n",
    "    apProduction = (3.*(137./2.)*3.14159)* (mass_ap * eps*eps * radFrac * dNdm_CR)/radAcc\n",
    "    return apProduction\n",
    "\n",
    "def calculateExpectedSignal(mass, mass_ap, mass_pid, mass_lepton, fpid, alpha_dark, eps, selEffZ_h, target_pos, apProduction, signal_meanEnergyGeV, rho=True):\n",
    "    ctau = simpeqs.getCtau(mass_ap, mass_pid, mass, eps, alpha_dark, fpid, mass_lepton, rho)\n",
    "    gcTau = ctau*simpeqs.gamma(mass/1000.0, signal_meanEnergyGeV)\n",
    "    effVtx = 0.0\n",
    "    for z in range(len(selEffZ_h.axes[0].centers)):\n",
    "        zz = selEffZ_h.axes[0].centers[z]\n",
    "        if zz < target_pos:\n",
    "            continue\n",
    "        effVtx += (math.exp((target_pos - zz)/gcTau)/gcTau)*selEffZ_h.values()[z]\n",
    "    br_VPi = 0.0\n",
    "    if rho:\n",
    "        br_VPi = simpeqs.br_Vrho_pi(mass_ap, mass_pid, mass, alpha_dark, fpid)\n",
    "    else:\n",
    "        br_VPi = simpeqs.br_Vphi_pi(mass_ap, mass_pid, mass, alpha_dark, fpid)\n",
    "    br_V_ee = 1.0\n",
    "    expSignal = apProduction * effVtx * br_VPi * br_V_ee\n",
    "    return expSignal\n",
    "\n",
    "def getTBranchArrays(events, branches=[],mass_low=0.0, mass_high=999.9):\n",
    "    arrays = events.arrays(branches,f\"(unc_vtx_mass*1000.0 > {mass_low}) & (unc_vtx_mass*1000.0 < {mass_high})\")\n",
    "    return arrays\n",
    "\n",
    "def applyCorrection(array, variable, correction):\n",
    "    array[variable] = array[variable] + correction\n",
    "    \n",
    "def v0ProjSigCut(array, cut_value):\n",
    "    condition = array[\"unc_vtx_proj_sig\"] < cut_value\n",
    "    array = array[condition]\n",
    "    return array\n",
    "    \n",
    "def deltaZCut(array, par0, par1, mass_mev):\n",
    "    cut = par0 + par1*mass_mev\n",
    "    condition = array[\"unc_vtx_deltaZ\"] < cut\n",
    "    array = array[condition]\n",
    "    return array\n",
    "\n",
    "def zalphaCut(array, cut_value):\n",
    "    condition = array[\"unc_vtx_zalpha_max\"] < cut_value\n",
    "    array = array[condition]\n",
    "    return array\n",
    "\n",
    "def flatZ0Cut(array, cut_value):\n",
    "    condition = (array[\"unc_vtx_min_z0\"])> cut_value\n",
    "    array = array[condition]\n",
    "    return array\n",
    "\n",
    "def zalphaTransformation(slope, recon_z, z0):\n",
    "    condition = z0 > 0.0\n",
    "    zalpha = ak.where(condition, recon_z - (z0/slope), recon_z + (z0/slope))\n",
    "    return zalpha\n",
    "\n"
   ]
  },
  {
   "cell_type": "code",
   "execution_count": 8,
   "id": "ebc515ad-13c1-46e1-9521-1056894ed29a",
   "metadata": {},
   "outputs": [],
   "source": [
    "def defineHistos1d(category, color='blue'):\n",
    "    histos = {}\n",
    "    histos[\"unc_vtx_proj_sig\"] = mplutils.defHist1d(f\"unc_vtx_proj_sig_{category}\",100,0,10,xlabel=\"V0 Projection Significance\", label=category, color=color)\n",
    "    histos[\"unc_vtx_deltaZ\"] = mplutils.defHist1d(f\"unc_vtx_deltaZ_{category}\",50,0,10,xlabel=\"deltaZ\", label=category, color=color)\n",
    "    histos[\"unc_vtx_z\"] = mplutils.defHist1d(f\"unc_vtx_z_{category}\",120,-20,100,xlabel=\"recon z [mm]\", logY=True, label=category, color=color)\n",
    "    histos[\"unc_vtx_min_z0\"] = mplutils.defHist1d(f\"unc_vtx_min_z0_{category}\",1000,0,5,xlabel=\"min z0 [mm]\", logY=False, label=category, color=color)\n",
    "    histos[\"unc_vtx_zalpha_max\"] = mplutils.defHist1d(f\"unc_vtx_zalpha_max_{category}\",1000,-10000,100,xlabel=\"zalpha max\", logY=False, label=category, color=color)\n",
    "    histos[\"vd_true_vtx_z\"] = mplutils.defHist1d(f\"vd_true_vtx_z_{category}\",200,-50.3,149.7,xlabel=\"truth vtx z [mm]\", logY=True, label=category, color=color)\n",
    "    histos[\"vd_true_vtx_energy\"] = mplutils.defHist1d(f\"vd_true_vtx_energy_{category}\",250,0.0,2.5,xlabel=\"truth energy [GeV]\", logY=False, label=category, color=color)\n",
    "    return histos\n",
    "\n",
    "def defineHistos2d(category):\n",
    "    histos = {}\n",
    "    histos[\"recon_z_vs_track_z0\"] = mpltutils.defHist2d(f'recon_z_vs_track_z0_{category}', 360,-20,60,2000,-4,4, xlabel='recon z [mm]',ylabel='track z0 [mm]')\n",
    "    return histos\n",
    "\n",
    "def fillVarHistos1d(histos_dict, array, reset=False):\n",
    "    for key, histo in histos_dict.items():\n",
    "        if reset == True:\n",
    "            histo.reset()\n",
    "        if key in array.fields:\n",
    "            histo.fill(array[key])\n",
    "            \n",
    "def fillHistos2d(histos_dict, array, reset=False):\n",
    "    for key, histo in histos_dict.items():\n",
    "        if reset == True:\n",
    "            histo.reset()\n",
    "    #track z0\n",
    "    histos_dict[\"recon_z_vs_track_z0\"].fill(array[\"unc_vtx_z\"],array[\"unc_vtx_ele_track_z0\"])\n",
    "    histos_dict[\"recon_z_vs_track_z0\"].fill(array[\"unc_vtx_z\"],array[\"unc_vtx_pos_track_z0\"])\n",
    "    \n",
    "def saveHistsToROOT(outfile, histos, subdir=''):\n",
    "    for key, histo in histos_dict.items():\n",
    "        mpltutils.writeHistToROOT(outfile, histo,subdir=subdir)\n"
   ]
  },
  {
   "cell_type": "code",
   "execution_count": 9,
   "id": "b6cdbf64-4498-4bd8-8920-ff117321c147",
   "metadata": {},
   "outputs": [],
   "source": [
    "#Specify mixing\n",
    "logeps2 = -5.5\n",
    "eps2 = pow(10,logeps2)\n",
    "eps = np.sqrt(eps2)\n",
    "\n",
    "#SIMP Parameters\n",
    "alpha_dark = 0.01\n",
    "mass_ratio_ap_to_vd = 1.66\n",
    "mass_ratio_ap_to_pid = 3.0\n",
    "ratio_mpi_to_fpi = 4.0*3.14159\n",
    "mass_lepton = 0.511"
   ]
  },
  {
   "cell_type": "code",
   "execution_count": 12,
   "id": "34c8a3bf-1947-41be-b91e-4aeae316efa0",
   "metadata": {},
   "outputs": [
    {
     "name": "stdout",
     "output_type": "stream",
     "text": [
      "MASS WINDOW: 35.90321164 - 44.09678836 MeV\n"
     ]
    }
   ],
   "source": [
    "#Configure output files\n",
    "outdir = 'test_output'\n",
    "outfilename = 'test_outfile'\n",
    "pdf_name = f'flat_z0_2dhistos'\n",
    "if not os.path.exists(outdir):\n",
    "    os.mkdir(outdir)\n",
    "\n",
    "#Loop over mass range\n",
    "for mass in range(40,45,5):\n",
    "    plots_dir = f'{outdir}/{int(mass)}_plots'\n",
    "    if not os.path.exists(plots_dir):\n",
    "        os.mkdir(plots_dir)\n",
    "    mass = float(mass)\n",
    "    mass_nsigma = 3.5\n",
    "    mass_low = float(mass) - mass_nsigma*massRes(float(mass))/2.0\n",
    "    mass_high = float(mass) + mass_nsigma*massRes(float(mass))/2.0\n",
    "    print(f'MASS WINDOW: {mass_low} - {mass_high} MeV')\n",
    "    mass_ap = mass*mass_ratio_ap_to_vd\n",
    "    mass_low_ap = mass_ratio_ap_to_vd*mass_low\n",
    "    mass_high_ap = mass_ratio_ap_to_vd*mass_high\n",
    "    mass_pid = mass_ap/mass_ratio_ap_to_pid\n",
    "    fpid = mass_pid/ratio_mpi_to_fpi\n",
    "\n",
    "    #RadFrac and RadAcc eval at Ap mass\n",
    "    radFrac = radiativeFraction(mass_ap) \n",
    "    radAcc = radiativeAcceptance(mass_ap) \n",
    "    \n",
    "    # Instantiating pdf document\n",
    "    #PDF = PdfPages(f'{outdir}/{pdf_name}.pdf')\n",
    "    \n",
    "    #init outfile\n",
    "    outfile = uproot.recreate(f'./{outdir}/mass_{mass}_{outfilename}.root')\n",
    "    \n",
    "    #background/data\n",
    "    bkg_branches = [\"unc_vtx_mass\",\"unc_vtx_z\",\"unc_vtx_proj_sig\",\"unc_vtx_deltaZ\",\"unc_vtx_ele_track_z0\",\"unc_vtx_pos_track_z0\",\"unc_vtx_ele_track_tanLambda\"]\n",
    "    bkg_filename = '/sdf/group/hps/users/alspellm/projects/THESIS/data/2016/BLPass4c_20231006/ana_20231019/full_hadd_blpass4c_ana.root'\n",
    "    bkg_subdir = 'vtxana_Tight_2016_simp_reach_SR'\n",
    "    bkg_treename = 'vtxana_Tight_2016_simp_reach_SR_tree'\n",
    "    bkg_subdirCR = 'vtxana_Tight_2016_simp_reach_CR'\n",
    "    bkg_treenameCR = 'vtxana_Tight_2016_simp_reach_CR_tree'\n",
    "    bkg_branchesCR = [\"unc_vtx_mass\"]\n",
    "    bkg_sf_SR = 10.0\n",
    "    bkg_sf_CR = 10.0\n",
    "\n",
    "    #Signal\n",
    "    signal_branches = [\"unc_vtx_mass\",\"unc_vtx_z\",\"unc_vtx_proj_sig\",\"unc_vtx_deltaZ\",\"unc_vtx_ele_track_z0\",\"unc_vtx_pos_track_z0\",\"unc_vtx_ele_track_tanLambda\",\"unc_vtx_pos_track_tanLambda\",\"vd_true_vtx_z\",\"vd_true_vtx_energy\"]\n",
    "    signal_subdir = 'vtxana_radMatchTight_2016_simp_reach_SR'\n",
    "    signal_treename = 'vtxana_radMatchTight_2016_simp_reach_SR_tree'\n",
    "    signal_filename = '/sdf/group/hps/users/alspellm/projects/THESIS/mc/2016/simps/signal_beam/20230713_slic/20230713_readout/hps-java_v5pt2pt1/pass4/recon_20231009/ana_20231020/hadd_simp_signal_%s_MeV_beam_ana.root'%(int(mass))\n",
    "    signal_sf = 1.0\n",
    "    #Truth Signal\n",
    "    signal_truth_filename = '/sdf/group/hps/users/alspellm/projects/THESIS/mc/2016/simps/slic/20230713_slic/20230724_slic_ana/ana_files/hadd_simp_%s_MeV_rot_slic_mcana.root'%(int(mass))\n",
    "    truth_mc_selection = 'vtxana_mc_radMatchTight_2016_simp_reach_SR'\n",
    "    truth_mc_tree='vtxana_mc_radMatchTight_2016_simp_reach_SR_tree'\n",
    "    pdgid = 625"
   ]
  },
  {
   "cell_type": "code",
   "execution_count": 13,
   "id": "64df80b8-7847-424b-8abf-b00031833eeb",
   "metadata": {},
   "outputs": [
    {
     "ename": "NameError",
     "evalue": "name 'histo1d' is not defined",
     "output_type": "error",
     "traceback": [
      "\u001b[0;31m---------------------------------------------------------------------------\u001b[0m",
      "\u001b[0;31mNameError\u001b[0m                                 Traceback (most recent call last)",
      "\u001b[0;32m<ipython-input-13-ccbcb2793116>\u001b[0m in \u001b[0;36m<module>\u001b[0;34m\u001b[0m\n\u001b[1;32m      4\u001b[0m \u001b[0mtruth_z_h\u001b[0m \u001b[0;34m=\u001b[0m \u001b[0msignal_truth_file\u001b[0m\u001b[0;34m[\u001b[0m\u001b[0;34m\"mcAna/mcAna_mc625Z_h\"\u001b[0m\u001b[0;34m]\u001b[0m\u001b[0;34m.\u001b[0m\u001b[0mto_hist\u001b[0m\u001b[0;34m(\u001b[0m\u001b[0;34m)\u001b[0m\u001b[0;34m\u001b[0m\u001b[0;34m\u001b[0m\u001b[0m\n\u001b[1;32m      5\u001b[0m \u001b[0msignal_truth_file\u001b[0m\u001b[0;34m.\u001b[0m\u001b[0mclose\u001b[0m\u001b[0;34m\u001b[0m\u001b[0;34m\u001b[0m\u001b[0m\n\u001b[0;32m----> 6\u001b[0;31m \u001b[0msignal_truthE_h\u001b[0m \u001b[0;34m=\u001b[0m \u001b[0mhisto1d\u001b[0m\u001b[0;34m(\u001b[0m\u001b[0;34m'signal_truthE'\u001b[0m\u001b[0;34m,\u001b[0m\u001b[0;36m250\u001b[0m\u001b[0;34m,\u001b[0m\u001b[0;36m0.0\u001b[0m\u001b[0;34m,\u001b[0m\u001b[0;36m2.5\u001b[0m\u001b[0;34m,\u001b[0m\u001b[0mtitle\u001b[0m\u001b[0;34m=\u001b[0m\u001b[0;34m'truth energy'\u001b[0m\u001b[0;34m,\u001b[0m\u001b[0mlabel\u001b[0m\u001b[0;34m=\u001b[0m\u001b[0;34m'truth energy'\u001b[0m\u001b[0;34m,\u001b[0m\u001b[0mxlabel\u001b[0m\u001b[0;34m=\u001b[0m\u001b[0;34m'truth energy [GeV]'\u001b[0m\u001b[0;34m,\u001b[0m\u001b[0mylabel\u001b[0m\u001b[0;34m=\u001b[0m\u001b[0;34m'MC Events'\u001b[0m\u001b[0;34m,\u001b[0m\u001b[0mlogY\u001b[0m\u001b[0;34m=\u001b[0m\u001b[0;32mFalse\u001b[0m\u001b[0;34m,\u001b[0m \u001b[0mcolor\u001b[0m\u001b[0;34m=\u001b[0m\u001b[0;34m'blue'\u001b[0m\u001b[0;34m)\u001b[0m\u001b[0;34m\u001b[0m\u001b[0;34m\u001b[0m\u001b[0m\n\u001b[0m\u001b[1;32m      7\u001b[0m \u001b[0msimZ_h\u001b[0m \u001b[0;34m=\u001b[0m \u001b[0mhisto1d\u001b[0m\u001b[0;34m(\u001b[0m\u001b[0;34m'signal_simZ'\u001b[0m\u001b[0;34m,\u001b[0m\u001b[0;36m200\u001b[0m\u001b[0;34m,\u001b[0m\u001b[0;34m-\u001b[0m\u001b[0;36m50.3\u001b[0m\u001b[0;34m,\u001b[0m\u001b[0;36m149.7\u001b[0m\u001b[0;34m,\u001b[0m\u001b[0mtitle\u001b[0m\u001b[0;34m=\u001b[0m\u001b[0;34m'signal_simZ'\u001b[0m\u001b[0;34m,\u001b[0m\u001b[0mlabel\u001b[0m\u001b[0;34m=\u001b[0m\u001b[0;34m'signal simZ'\u001b[0m\u001b[0;34m,\u001b[0m\u001b[0mxlabel\u001b[0m\u001b[0;34m=\u001b[0m\u001b[0;34m'true zvtx [mm]'\u001b[0m\u001b[0;34m,\u001b[0m\u001b[0mylabel\u001b[0m\u001b[0;34m=\u001b[0m\u001b[0;34m'MC Events'\u001b[0m\u001b[0;34m,\u001b[0m\u001b[0mlogY\u001b[0m\u001b[0;34m=\u001b[0m\u001b[0;32mFalse\u001b[0m\u001b[0;34m,\u001b[0m \u001b[0mcolor\u001b[0m\u001b[0;34m=\u001b[0m\u001b[0;34m'blue'\u001b[0m\u001b[0;34m)\u001b[0m\u001b[0;34m\u001b[0m\u001b[0;34m\u001b[0m\u001b[0m\n\u001b[1;32m      8\u001b[0m \u001b[0msimZ_h\u001b[0m\u001b[0;34m.\u001b[0m\u001b[0mfill\u001b[0m\u001b[0;34m(\u001b[0m\u001b[0mtruth_z_h\u001b[0m\u001b[0;34m.\u001b[0m\u001b[0maxes\u001b[0m\u001b[0;34m[\u001b[0m\u001b[0;36m0\u001b[0m\u001b[0;34m]\u001b[0m\u001b[0;34m.\u001b[0m\u001b[0mcenters\u001b[0m\u001b[0;34m,\u001b[0m \u001b[0mweight\u001b[0m\u001b[0;34m=\u001b[0m\u001b[0mtruth_z_h\u001b[0m\u001b[0;34m.\u001b[0m\u001b[0mcounts\u001b[0m\u001b[0;34m(\u001b[0m\u001b[0;34m)\u001b[0m\u001b[0;34m)\u001b[0m\u001b[0;34m\u001b[0m\u001b[0;34m\u001b[0m\u001b[0m\n",
      "\u001b[0;31mNameError\u001b[0m: name 'histo1d' is not defined"
     ]
    }
   ],
   "source": [
    "    #Signal truth recon z\n",
    "    sbudir = \"vtxana_radMatchTight_2016_simp_reach_SR\"\n",
    "    signal_truth_file = uproot.open(signal_truth_filename)\n",
    "    truth_z_h = signal_truth_file[\"mcAna/mcAna_mc625Z_h\"].to_hist()\n",
    "    signal_truth_file.close\n",
    "    signal_truthE_h = mplutils.defHist1d('signal_truthE',250,0.0,2.5,title='truth energy',label='truth energy',xlabel='truth energy [GeV]',ylabel='MC Events',logY=False, color='blue')\n",
    "    simZ_h = histo1d('signal_simZ',200,-50.3,149.7,title='signal_simZ',label='signal simZ',xlabel='true zvtx [mm]',ylabel='MC Events',logY=False, color='blue')\n",
    "    simZ_h.fill(truth_z_h.axes[0].centers, weight=truth_z_h.counts())"
   ]
  },
  {
   "cell_type": "code",
   "execution_count": null,
   "id": "0667c9e9-37ec-4caf-8bb3-ea5e83536e5b",
   "metadata": {},
   "outputs": [],
   "source": [
    "    ## **LOAD DATA** ##\n",
    "    #Read background for mass window\n",
    "    bkg_file = uproot.open(bkg_filename)\n",
    "    bkg_tree = bkg_file[f'{bkg_subdir}/{bkg_treename}']\n",
    "    bkg_arrays = getTBranchArrays(bkg_tree,bkg_branches, mass_low, mass_high)\n",
    "    bkg_treeCR = bkg_file[f'{bkg_subdirCR}/{bkg_treenameCR}']\n",
    "\n",
    "    #Get background rate in control region, eval at Ap mass, NOT Vd mass\n",
    "    bkg_arraysCR = getTBranchArrays(bkg_treeCR, bkg_branchesCR, \n",
    "                                    mass_low_ap, mass_high_ap)\n",
    "\n",
    "    dNdm = bkg_sf_CR*len(bkg_arraysCR[\"unc_vtx_mass\"])/(mass_high_ap-mass_low_ap)\n",
    "    print(\"Background Rate dNdm:\",dNdm)\n",
    "    bkg_file.close()"
   ]
  },
  {
   "cell_type": "code",
   "execution_count": 15,
   "id": "d531ee04-1ae2-47f2-a421-5a428926b2ea",
   "metadata": {},
   "outputs": [
    {
     "ename": "NameError",
     "evalue": "name 'mplutils' is not defined",
     "output_type": "error",
     "traceback": [
      "\u001b[0;31m---------------------------------------------------------------------------\u001b[0m",
      "\u001b[0;31mNameError\u001b[0m                                 Traceback (most recent call last)",
      "\u001b[0;32m<ipython-input-15-6645631f0cee>\u001b[0m in \u001b[0;36m<module>\u001b[0;34m\u001b[0m\n\u001b[1;32m     12\u001b[0m \u001b[0;31m## **INITIALIZE HISTOGRAMS** ##\u001b[0m\u001b[0;34m\u001b[0m\u001b[0;34m\u001b[0m\u001b[0;34m\u001b[0m\u001b[0m\n\u001b[1;32m     13\u001b[0m \u001b[0;31m#Define Initial background and signal histograms\u001b[0m\u001b[0;34m\u001b[0m\u001b[0;34m\u001b[0m\u001b[0;34m\u001b[0m\u001b[0m\n\u001b[0;32m---> 14\u001b[0;31m \u001b[0mbkg_histos1d\u001b[0m \u001b[0;34m=\u001b[0m \u001b[0mdefineHistos1d\u001b[0m\u001b[0;34m(\u001b[0m\u001b[0;34m'bkg'\u001b[0m\u001b[0;34m)\u001b[0m\u001b[0;34m\u001b[0m\u001b[0;34m\u001b[0m\u001b[0m\n\u001b[0m\u001b[1;32m     15\u001b[0m \u001b[0msignal_histos1d\u001b[0m \u001b[0;34m=\u001b[0m \u001b[0mdefineHistos1d\u001b[0m\u001b[0;34m(\u001b[0m\u001b[0;34m'signal'\u001b[0m\u001b[0;34m,\u001b[0m \u001b[0mcolor\u001b[0m\u001b[0;34m=\u001b[0m\u001b[0;34m'red'\u001b[0m\u001b[0;34m)\u001b[0m\u001b[0;34m\u001b[0m\u001b[0;34m\u001b[0m\u001b[0m\n\u001b[1;32m     16\u001b[0m \u001b[0;31m#Fill initial histograms\u001b[0m\u001b[0;34m\u001b[0m\u001b[0;34m\u001b[0m\u001b[0;34m\u001b[0m\u001b[0m\n",
      "\u001b[0;32m<ipython-input-8-8eb61e3391d4>\u001b[0m in \u001b[0;36mdefineHistos1d\u001b[0;34m(category, color)\u001b[0m\n\u001b[1;32m      1\u001b[0m \u001b[0;32mdef\u001b[0m \u001b[0mdefineHistos1d\u001b[0m\u001b[0;34m(\u001b[0m\u001b[0mcategory\u001b[0m\u001b[0;34m,\u001b[0m \u001b[0mcolor\u001b[0m\u001b[0;34m=\u001b[0m\u001b[0;34m'blue'\u001b[0m\u001b[0;34m)\u001b[0m\u001b[0;34m:\u001b[0m\u001b[0;34m\u001b[0m\u001b[0;34m\u001b[0m\u001b[0m\n\u001b[1;32m      2\u001b[0m     \u001b[0mhistos\u001b[0m \u001b[0;34m=\u001b[0m \u001b[0;34m{\u001b[0m\u001b[0;34m}\u001b[0m\u001b[0;34m\u001b[0m\u001b[0;34m\u001b[0m\u001b[0m\n\u001b[0;32m----> 3\u001b[0;31m     \u001b[0mhistos\u001b[0m\u001b[0;34m[\u001b[0m\u001b[0;34m\"unc_vtx_proj_sig\"\u001b[0m\u001b[0;34m]\u001b[0m \u001b[0;34m=\u001b[0m \u001b[0mmplutils\u001b[0m\u001b[0;34m.\u001b[0m\u001b[0mdefHist1d\u001b[0m\u001b[0;34m(\u001b[0m\u001b[0;34mf\"unc_vtx_proj_sig_{category}\"\u001b[0m\u001b[0;34m,\u001b[0m\u001b[0;36m100\u001b[0m\u001b[0;34m,\u001b[0m\u001b[0;36m0\u001b[0m\u001b[0;34m,\u001b[0m\u001b[0;36m10\u001b[0m\u001b[0;34m,\u001b[0m\u001b[0mxlabel\u001b[0m\u001b[0;34m=\u001b[0m\u001b[0;34m\"V0 Projection Significance\"\u001b[0m\u001b[0;34m,\u001b[0m \u001b[0mlabel\u001b[0m\u001b[0;34m=\u001b[0m\u001b[0mcategory\u001b[0m\u001b[0;34m,\u001b[0m \u001b[0mcolor\u001b[0m\u001b[0;34m=\u001b[0m\u001b[0mcolor\u001b[0m\u001b[0;34m)\u001b[0m\u001b[0;34m\u001b[0m\u001b[0;34m\u001b[0m\u001b[0m\n\u001b[0m\u001b[1;32m      4\u001b[0m     \u001b[0mhistos\u001b[0m\u001b[0;34m[\u001b[0m\u001b[0;34m\"unc_vtx_deltaZ\"\u001b[0m\u001b[0;34m]\u001b[0m \u001b[0;34m=\u001b[0m \u001b[0mmplutils\u001b[0m\u001b[0;34m.\u001b[0m\u001b[0mdefHist1d\u001b[0m\u001b[0;34m(\u001b[0m\u001b[0;34mf\"unc_vtx_deltaZ_{category}\"\u001b[0m\u001b[0;34m,\u001b[0m\u001b[0;36m50\u001b[0m\u001b[0;34m,\u001b[0m\u001b[0;36m0\u001b[0m\u001b[0;34m,\u001b[0m\u001b[0;36m10\u001b[0m\u001b[0;34m,\u001b[0m\u001b[0mxlabel\u001b[0m\u001b[0;34m=\u001b[0m\u001b[0;34m\"deltaZ\"\u001b[0m\u001b[0;34m,\u001b[0m \u001b[0mlabel\u001b[0m\u001b[0;34m=\u001b[0m\u001b[0mcategory\u001b[0m\u001b[0;34m,\u001b[0m \u001b[0mcolor\u001b[0m\u001b[0;34m=\u001b[0m\u001b[0mcolor\u001b[0m\u001b[0;34m)\u001b[0m\u001b[0;34m\u001b[0m\u001b[0;34m\u001b[0m\u001b[0m\n\u001b[1;32m      5\u001b[0m     \u001b[0mhistos\u001b[0m\u001b[0;34m[\u001b[0m\u001b[0;34m\"unc_vtx_z\"\u001b[0m\u001b[0;34m]\u001b[0m \u001b[0;34m=\u001b[0m \u001b[0mmplutils\u001b[0m\u001b[0;34m.\u001b[0m\u001b[0mdefHist1d\u001b[0m\u001b[0;34m(\u001b[0m\u001b[0;34mf\"unc_vtx_z_{category}\"\u001b[0m\u001b[0;34m,\u001b[0m\u001b[0;36m120\u001b[0m\u001b[0;34m,\u001b[0m\u001b[0;34m-\u001b[0m\u001b[0;36m20\u001b[0m\u001b[0;34m,\u001b[0m\u001b[0;36m100\u001b[0m\u001b[0;34m,\u001b[0m\u001b[0mxlabel\u001b[0m\u001b[0;34m=\u001b[0m\u001b[0;34m\"recon z [mm]\"\u001b[0m\u001b[0;34m,\u001b[0m \u001b[0mlogY\u001b[0m\u001b[0;34m=\u001b[0m\u001b[0;32mTrue\u001b[0m\u001b[0;34m,\u001b[0m \u001b[0mlabel\u001b[0m\u001b[0;34m=\u001b[0m\u001b[0mcategory\u001b[0m\u001b[0;34m,\u001b[0m \u001b[0mcolor\u001b[0m\u001b[0;34m=\u001b[0m\u001b[0mcolor\u001b[0m\u001b[0;34m)\u001b[0m\u001b[0;34m\u001b[0m\u001b[0;34m\u001b[0m\u001b[0m\n",
      "\u001b[0;31mNameError\u001b[0m: name 'mplutils' is not defined"
     ]
    }
   ],
   "source": [
    "    ## **LOAD SIGNAL** ##\n",
    "    #Read signal for mass window\n",
    "    signal_file = uproot.open(signal_filename)\n",
    "    signal_tree = signal_file[f'{signal_subdir}/{signal_treename}']\n",
    "    signal_arrays = getTBranchArrays(signal_tree,signal_branches,mass_low,mass_high)\n",
    "    signal_file.close()\n",
    "\n",
    "    #Apply z0 corrections\n",
    "    applyCorrection(signal_arrays,'unc_vtx_ele_track_z0', -0.058)\n",
    "    applyCorrection(signal_arrays,'unc_vtx_pos_track_z0', -0.098)\n",
    "\n",
    "    ## **INITIALIZE HISTOGRAMS** ##\n",
    "    #Define Initial background and signal histograms\n",
    "    bkg_histos1d = defineHistos1d('bkg') \n",
    "    signal_histos1d = defineHistos1d('signal', color='red')\n",
    "    #Fill initial histograms\n",
    "    fillVarHistos1d(bkg_histos1d, bkg_arrays)\n",
    "    fillVarHistos1d(signal_histos1d, signal_arrays)\n",
    "    \n",
    "    #Fill 2d histograms\n",
    "    signal_histos2d = defineHistos2d('signal')\n",
    "    bkg_histos2d = defineHistos2d('bkg')\n",
    "    fillHistos2d(bkg_histos2d, bkg_arrays)\n",
    "    fillHistos2d(signal_histos2d, signal_arrays)\n",
    "   "
   ]
  },
  {
   "cell_type": "code",
   "execution_count": null,
   "id": "55147833-9027-4d35-8584-c9593708a322",
   "metadata": {},
   "outputs": [],
   "source": [
    "    #Write and plot \n",
    "    for key, histo in signal_histos2d.items():\n",
    "        fig, ax = mplutils.plotHist2d(histo, text='initial', text_x=0.8, text_y=0.8, text_ax=True)\n",
    "        plt.savefig(f'{plots_dir}/{histo.metadata.get(\"title\")}_initial.png')\n",
    "        fig.clear()\n",
    "        plt.close(fig)\n",
    "    for key, histo in bkg_histos2d.items():\n",
    "        fig = mpltutils.plotHist2d(histo, text='initial', text_x=0.8, text_y=0.8, text_ax=True)\n",
    "        plt.savefig(f'{plots_dir}/{histo.metadata.get(\"title\")}_initial.png')\n",
    "        fig.clear()\n",
    "        plt.close(fig)\n",
    "    \n",
    "    saveHistsToROOT(outfile, bkg_histos1d, subdir='initial')\n",
    "    saveHistsToROOT(outfile, bkg_histos2d, subdir='initial')\n",
    "    saveHistsToROOT(outfile, signal_histos1d, subdir='initial')\n",
    "    saveHistsToROOT(outfile, signal_histos2d, subdir='initial')\n",
    "   "
   ]
  },
  {
   "cell_type": "code",
   "execution_count": 11,
   "id": "da513bb2-d453-4cb1-b416-5378faa39d4b",
   "metadata": {},
   "outputs": [
    {
     "name": "stdout",
     "output_type": "stream",
     "text": [
      "MASS WINDOW: 35.90321164 - 44.09678836 MeV\n",
      "Background Rate dNdm: 876236.6294402347\n",
      "Iteration:  0\n"
     ]
    },
    {
     "name": "stderr",
     "output_type": "stream",
     "text": [
      "/sdf/home/a/alspellm/.local/lib/python3.6/site-packages/ipykernel_launcher.py:296: RuntimeWarning: invalid value encountered in true_divide\n"
     ]
    },
    {
     "name": "stdout",
     "output_type": "stream",
     "text": [
      "Iteration:  10\n",
      "Iteration:  20\n",
      "Iteration:  30\n",
      "Iteration:  40\n",
      "Iteration:  50\n",
      "Iteration:  60\n",
      "Iteration:  70\n",
      "Iteration:  80\n"
     ]
    },
    {
     "name": "stderr",
     "output_type": "stream",
     "text": [
      "/sdf/home/a/alspellm/.local/lib/python3.6/site-packages/ipykernel_launcher.py:330: UserWarning: Attempted to set non-positive bottom ylim on a log-scaled axis.\n",
      "Invalid limit will be ignored.\n"
     ]
    },
    {
     "name": "stdout",
     "output_type": "stream",
     "text": [
      "MASS WINDOW: 40.649745669375 - 49.350254330625 MeV\n",
      "Background Rate dNdm: 792874.9836632549\n",
      "Iteration:  0\n"
     ]
    },
    {
     "name": "stderr",
     "output_type": "stream",
     "text": [
      "/sdf/home/a/alspellm/.local/lib/python3.6/site-packages/ipykernel_launcher.py:296: RuntimeWarning: invalid value encountered in true_divide\n"
     ]
    },
    {
     "name": "stdout",
     "output_type": "stream",
     "text": [
      "Iteration:  10\n",
      "Iteration:  20\n",
      "Iteration:  30\n",
      "Iteration:  40\n",
      "Iteration:  50\n",
      "Iteration:  60\n",
      "Iteration:  70\n",
      "Iteration:  80\n"
     ]
    },
    {
     "name": "stderr",
     "output_type": "stream",
     "text": [
      "/sdf/home/a/alspellm/.local/lib/python3.6/site-packages/ipykernel_launcher.py:330: UserWarning: Attempted to set non-positive bottom ylim on a log-scaled axis.\n",
      "Invalid limit will be ignored.\n"
     ]
    },
    {
     "name": "stdout",
     "output_type": "stream",
     "text": [
      "MASS WINDOW: 45.4020731875 - 54.5979268125 MeV\n",
      "Background Rate dNdm: 653701.507073953\n",
      "Iteration:  0\n"
     ]
    },
    {
     "name": "stderr",
     "output_type": "stream",
     "text": [
      "/sdf/home/a/alspellm/.local/lib/python3.6/site-packages/ipykernel_launcher.py:296: RuntimeWarning: invalid value encountered in true_divide\n"
     ]
    },
    {
     "name": "stdout",
     "output_type": "stream",
     "text": [
      "Iteration:  10\n",
      "Iteration:  20\n",
      "Iteration:  30\n",
      "Iteration:  40\n",
      "Iteration:  50\n",
      "Iteration:  60\n",
      "Iteration:  70\n",
      "Iteration:  80\n"
     ]
    },
    {
     "name": "stderr",
     "output_type": "stream",
     "text": [
      "/sdf/home/a/alspellm/.local/lib/python3.6/site-packages/ipykernel_launcher.py:330: UserWarning: Attempted to set non-positive bottom ylim on a log-scaled axis.\n",
      "Invalid limit will be ignored.\n"
     ]
    },
    {
     "name": "stdout",
     "output_type": "stream",
     "text": [
      "MASS WINDOW: 50.160194194375 - 59.839805805625 MeV\n",
      "Background Rate dNdm: 496790.6933648586\n",
      "Iteration:  0\n"
     ]
    },
    {
     "name": "stderr",
     "output_type": "stream",
     "text": [
      "/sdf/home/a/alspellm/.local/lib/python3.6/site-packages/ipykernel_launcher.py:296: RuntimeWarning: invalid value encountered in true_divide\n"
     ]
    },
    {
     "name": "stdout",
     "output_type": "stream",
     "text": [
      "Iteration:  10\n",
      "Iteration:  20\n",
      "Iteration:  30\n",
      "Iteration:  40\n",
      "Iteration:  50\n",
      "Iteration:  60\n",
      "Iteration:  70\n",
      "Iteration:  80\n"
     ]
    },
    {
     "name": "stderr",
     "output_type": "stream",
     "text": [
      "/sdf/home/a/alspellm/.local/lib/python3.6/site-packages/ipykernel_launcher.py:330: UserWarning: Attempted to set non-positive bottom ylim on a log-scaled axis.\n",
      "Invalid limit will be ignored.\n"
     ]
    },
    {
     "name": "stdout",
     "output_type": "stream",
     "text": [
      "MASS WINDOW: 54.92410869 - 65.07589131 MeV\n",
      "Background Rate dNdm: 352723.38055021776\n",
      "Iteration:  0\n"
     ]
    },
    {
     "name": "stderr",
     "output_type": "stream",
     "text": [
      "/sdf/home/a/alspellm/.local/lib/python3.6/site-packages/ipykernel_launcher.py:296: RuntimeWarning: invalid value encountered in true_divide\n"
     ]
    },
    {
     "name": "stdout",
     "output_type": "stream",
     "text": [
      "Iteration:  10\n",
      "Iteration:  20\n",
      "Iteration:  30\n",
      "Iteration:  40\n",
      "Iteration:  50\n",
      "Iteration:  60\n",
      "Iteration:  70\n",
      "Iteration:  80\n"
     ]
    },
    {
     "name": "stderr",
     "output_type": "stream",
     "text": [
      "/sdf/home/a/alspellm/.local/lib/python3.6/site-packages/ipykernel_launcher.py:330: UserWarning: Attempted to set non-positive bottom ylim on a log-scaled axis.\n",
      "Invalid limit will be ignored.\n"
     ]
    },
    {
     "name": "stdout",
     "output_type": "stream",
     "text": [
      "MASS WINDOW: 59.693816674375 - 70.306183325625 MeV\n",
      "Background Rate dNdm: 239525.05547327356\n",
      "Iteration:  0\n"
     ]
    },
    {
     "name": "stderr",
     "output_type": "stream",
     "text": [
      "/sdf/home/a/alspellm/.local/lib/python3.6/site-packages/ipykernel_launcher.py:296: RuntimeWarning: invalid value encountered in true_divide\n"
     ]
    },
    {
     "name": "stdout",
     "output_type": "stream",
     "text": [
      "Iteration:  10\n",
      "Iteration:  20\n",
      "Iteration:  30\n",
      "Iteration:  40\n",
      "Iteration:  50\n",
      "Iteration:  60\n",
      "Iteration:  70\n",
      "Iteration:  80\n"
     ]
    },
    {
     "name": "stderr",
     "output_type": "stream",
     "text": [
      "/sdf/home/a/alspellm/.local/lib/python3.6/site-packages/ipykernel_launcher.py:330: UserWarning: Attempted to set non-positive bottom ylim on a log-scaled axis.\n",
      "Invalid limit will be ignored.\n"
     ]
    },
    {
     "name": "stdout",
     "output_type": "stream",
     "text": [
      "MASS WINDOW: 64.4693181475 - 75.5306818525 MeV\n",
      "Background Rate dNdm: 158791.07043000287\n",
      "Iteration:  0\n"
     ]
    },
    {
     "name": "stderr",
     "output_type": "stream",
     "text": [
      "/sdf/home/a/alspellm/.local/lib/python3.6/site-packages/ipykernel_launcher.py:296: RuntimeWarning: invalid value encountered in true_divide\n"
     ]
    },
    {
     "name": "stdout",
     "output_type": "stream",
     "text": [
      "Iteration:  10\n",
      "Iteration:  20\n",
      "Iteration:  30\n",
      "Iteration:  40\n",
      "Iteration:  50\n",
      "Iteration:  60\n",
      "Iteration:  70\n",
      "Iteration:  80\n"
     ]
    },
    {
     "name": "stderr",
     "output_type": "stream",
     "text": [
      "/sdf/home/a/alspellm/.local/lib/python3.6/site-packages/ipykernel_launcher.py:330: UserWarning: Attempted to set non-positive bottom ylim on a log-scaled axis.\n",
      "Invalid limit will be ignored.\n"
     ]
    },
    {
     "name": "stdout",
     "output_type": "stream",
     "text": [
      "MASS WINDOW: 69.250613109375 - 80.749386890625 MeV\n",
      "Background Rate dNdm: 104056.14503349987\n",
      "Iteration:  0\n"
     ]
    },
    {
     "name": "stderr",
     "output_type": "stream",
     "text": [
      "/sdf/home/a/alspellm/.local/lib/python3.6/site-packages/ipykernel_launcher.py:296: RuntimeWarning: invalid value encountered in true_divide\n"
     ]
    },
    {
     "name": "stdout",
     "output_type": "stream",
     "text": [
      "Iteration:  10\n",
      "Iteration:  20\n",
      "Iteration:  30\n",
      "Iteration:  40\n",
      "Iteration:  50\n",
      "Iteration:  60\n",
      "Iteration:  70\n",
      "Iteration:  80\n"
     ]
    },
    {
     "name": "stderr",
     "output_type": "stream",
     "text": [
      "/sdf/home/a/alspellm/.local/lib/python3.6/site-packages/ipykernel_launcher.py:330: UserWarning: Attempted to set non-positive bottom ylim on a log-scaled axis.\n",
      "Invalid limit will be ignored.\n"
     ]
    },
    {
     "name": "stdout",
     "output_type": "stream",
     "text": [
      "MASS WINDOW: 74.03770156 - 85.96229844 MeV\n",
      "Background Rate dNdm: 68295.10250622914\n",
      "Iteration:  0\n"
     ]
    },
    {
     "name": "stderr",
     "output_type": "stream",
     "text": [
      "/sdf/home/a/alspellm/.local/lib/python3.6/site-packages/ipykernel_launcher.py:296: RuntimeWarning: invalid value encountered in true_divide\n"
     ]
    },
    {
     "name": "stdout",
     "output_type": "stream",
     "text": [
      "Iteration:  10\n",
      "Iteration:  20\n",
      "Iteration:  30\n",
      "Iteration:  40\n",
      "Iteration:  50\n",
      "Iteration:  60\n",
      "Iteration:  70\n",
      "Iteration:  80\n"
     ]
    },
    {
     "name": "stderr",
     "output_type": "stream",
     "text": [
      "/sdf/home/a/alspellm/.local/lib/python3.6/site-packages/ipykernel_launcher.py:330: UserWarning: Attempted to set non-positive bottom ylim on a log-scaled axis.\n",
      "Invalid limit will be ignored.\n"
     ]
    },
    {
     "name": "stdout",
     "output_type": "stream",
     "text": [
      "MASS WINDOW: 78.830583499375 - 91.169416500625 MeV\n",
      "Background Rate dNdm: 44895.48008869086\n",
      "Iteration:  0\n"
     ]
    },
    {
     "name": "stderr",
     "output_type": "stream",
     "text": [
      "/sdf/home/a/alspellm/.local/lib/python3.6/site-packages/ipykernel_launcher.py:296: RuntimeWarning: invalid value encountered in true_divide\n"
     ]
    },
    {
     "name": "stdout",
     "output_type": "stream",
     "text": [
      "Iteration:  10\n",
      "Iteration:  20\n",
      "Iteration:  30\n",
      "Iteration:  40\n",
      "Iteration:  50\n",
      "Iteration:  60\n",
      "Iteration:  70\n",
      "Iteration:  80\n"
     ]
    },
    {
     "name": "stderr",
     "output_type": "stream",
     "text": [
      "/sdf/home/a/alspellm/.local/lib/python3.6/site-packages/ipykernel_launcher.py:330: UserWarning: Attempted to set non-positive bottom ylim on a log-scaled axis.\n",
      "Invalid limit will be ignored.\n"
     ]
    },
    {
     "name": "stdout",
     "output_type": "stream",
     "text": [
      "MASS WINDOW: 83.6292589275 - 96.3707410725 MeV\n",
      "Background Rate dNdm: 29895.710586549114\n",
      "Iteration:  0\n"
     ]
    },
    {
     "name": "stderr",
     "output_type": "stream",
     "text": [
      "/sdf/home/a/alspellm/.local/lib/python3.6/site-packages/ipykernel_launcher.py:296: RuntimeWarning: invalid value encountered in true_divide\n"
     ]
    },
    {
     "name": "stdout",
     "output_type": "stream",
     "text": [
      "Iteration:  10\n",
      "Iteration:  20\n",
      "Iteration:  30\n",
      "Iteration:  40\n",
      "Iteration:  50\n",
      "Iteration:  60\n",
      "Iteration:  70\n",
      "Iteration:  80\n"
     ]
    },
    {
     "name": "stderr",
     "output_type": "stream",
     "text": [
      "/sdf/home/a/alspellm/.local/lib/python3.6/site-packages/ipykernel_launcher.py:330: UserWarning: Attempted to set non-positive bottom ylim on a log-scaled axis.\n",
      "Invalid limit will be ignored.\n"
     ]
    },
    {
     "name": "stdout",
     "output_type": "stream",
     "text": [
      "MASS WINDOW: 88.433727844375 - 101.566272155625 MeV\n",
      "Background Rate dNdm: 20338.05141757489\n",
      "Iteration:  0\n"
     ]
    },
    {
     "name": "stderr",
     "output_type": "stream",
     "text": [
      "/sdf/home/a/alspellm/.local/lib/python3.6/site-packages/ipykernel_launcher.py:296: RuntimeWarning: invalid value encountered in true_divide\n"
     ]
    },
    {
     "name": "stdout",
     "output_type": "stream",
     "text": [
      "Iteration:  10\n",
      "Iteration:  20\n",
      "Iteration:  30\n",
      "Iteration:  40\n",
      "Iteration:  50\n",
      "Iteration:  60\n",
      "Iteration:  70\n",
      "Iteration:  80\n"
     ]
    },
    {
     "name": "stderr",
     "output_type": "stream",
     "text": [
      "/sdf/home/a/alspellm/.local/lib/python3.6/site-packages/ipykernel_launcher.py:330: UserWarning: Attempted to set non-positive bottom ylim on a log-scaled axis.\n",
      "Invalid limit will be ignored.\n"
     ]
    },
    {
     "name": "stdout",
     "output_type": "stream",
     "text": [
      "MASS WINDOW: 93.24399025 - 106.75600975 MeV\n",
      "Background Rate dNdm: 14167.216887407045\n",
      "Iteration:  0\n"
     ]
    },
    {
     "name": "stderr",
     "output_type": "stream",
     "text": [
      "/sdf/home/a/alspellm/.local/lib/python3.6/site-packages/ipykernel_launcher.py:296: RuntimeWarning: invalid value encountered in true_divide\n"
     ]
    },
    {
     "name": "stdout",
     "output_type": "stream",
     "text": [
      "Iteration:  10\n",
      "Iteration:  20\n",
      "Iteration:  30\n",
      "Iteration:  40\n",
      "Iteration:  50\n",
      "Iteration:  60\n",
      "Iteration:  70\n",
      "Iteration:  80\n"
     ]
    },
    {
     "name": "stderr",
     "output_type": "stream",
     "text": [
      "/sdf/home/a/alspellm/.local/lib/python3.6/site-packages/ipykernel_launcher.py:330: UserWarning: Attempted to set non-positive bottom ylim on a log-scaled axis.\n",
      "Invalid limit will be ignored.\n"
     ]
    },
    {
     "name": "stdout",
     "output_type": "stream",
     "text": [
      "MASS WINDOW: 98.060046144375 - 111.939953855625 MeV\n",
      "Background Rate dNdm: 10100.844911748813\n",
      "Iteration:  0\n"
     ]
    },
    {
     "name": "stderr",
     "output_type": "stream",
     "text": [
      "/sdf/home/a/alspellm/.local/lib/python3.6/site-packages/ipykernel_launcher.py:296: RuntimeWarning: invalid value encountered in true_divide\n"
     ]
    },
    {
     "name": "stdout",
     "output_type": "stream",
     "text": [
      "Iteration:  10\n",
      "Iteration:  20\n",
      "Iteration:  30\n",
      "Iteration:  40\n",
      "Iteration:  50\n",
      "Iteration:  60\n",
      "Iteration:  70\n",
      "Iteration:  80\n"
     ]
    },
    {
     "name": "stderr",
     "output_type": "stream",
     "text": [
      "/sdf/home/a/alspellm/.local/lib/python3.6/site-packages/ipykernel_launcher.py:330: UserWarning: Attempted to set non-positive bottom ylim on a log-scaled axis.\n",
      "Invalid limit will be ignored.\n"
     ]
    },
    {
     "name": "stdout",
     "output_type": "stream",
     "text": [
      "MASS WINDOW: 102.8818955275 - 117.1181044725 MeV\n",
      "Background Rate dNdm: 7262.154030479131\n",
      "Iteration:  0\n"
     ]
    },
    {
     "name": "stderr",
     "output_type": "stream",
     "text": [
      "/sdf/home/a/alspellm/.local/lib/python3.6/site-packages/ipykernel_launcher.py:296: RuntimeWarning: invalid value encountered in true_divide\n"
     ]
    },
    {
     "name": "stdout",
     "output_type": "stream",
     "text": [
      "Iteration:  10\n",
      "Iteration:  20\n",
      "Iteration:  30\n",
      "Iteration:  40\n",
      "Iteration:  50\n",
      "Iteration:  60\n",
      "Iteration:  70\n",
      "Iteration:  80\n"
     ]
    },
    {
     "name": "stderr",
     "output_type": "stream",
     "text": [
      "/sdf/home/a/alspellm/.local/lib/python3.6/site-packages/ipykernel_launcher.py:330: UserWarning: Attempted to set non-positive bottom ylim on a log-scaled axis.\n",
      "Invalid limit will be ignored.\n"
     ]
    },
    {
     "name": "stdout",
     "output_type": "stream",
     "text": [
      "MASS WINDOW: 107.70953839937499 - 122.29046160062501 MeV\n",
      "Background Rate dNdm: 5363.08943551797\n",
      "Iteration:  0\n"
     ]
    },
    {
     "name": "stderr",
     "output_type": "stream",
     "text": [
      "/sdf/home/a/alspellm/.local/lib/python3.6/site-packages/ipykernel_launcher.py:296: RuntimeWarning: invalid value encountered in true_divide\n"
     ]
    },
    {
     "name": "stdout",
     "output_type": "stream",
     "text": [
      "Iteration:  10\n",
      "Iteration:  20\n",
      "Iteration:  30\n",
      "Iteration:  40\n",
      "Iteration:  50\n",
      "Iteration:  60\n",
      "Iteration:  70\n",
      "Iteration:  80\n"
     ]
    },
    {
     "name": "stderr",
     "output_type": "stream",
     "text": [
      "/sdf/home/a/alspellm/.local/lib/python3.6/site-packages/ipykernel_launcher.py:330: UserWarning: Attempted to set non-positive bottom ylim on a log-scaled axis.\n",
      "Invalid limit will be ignored.\n"
     ]
    }
   ],
   "source": [
    " \n",
    "    ## **Configure High-Z Cuts** ##\n",
    "\n",
    "    deltaZ_par0 = 18.5972\n",
    "    deltaZ_par1 = 0.159555\n",
    "    v0projSig_cutvalue = 2.0\n",
    "\n",
    "    #Apply initial high-z cuts\n",
    "    #bkg_arrays = v0ProjSigCut(bkg_arrays, v0projSig_cutvalue)\n",
    "    #bkg_arrays = deltaZCut(bkg_arrays, deltaZ_par0, deltaZ_par1, mass)\n",
    "\n",
    "    #Apply initial high-z cuts\n",
    "    #signal_arrays = v0ProjSigCut(signal_arrays, v0projSig_cutvalue)\n",
    "    #signal_arrays = deltaZCut(signal_arrays, deltaZ_par0, deltaZ_par1, mass)\n",
    "\n",
    "    def findCutValue(initial_histo, cut_fraction):\n",
    "        initial_integral = initial_histo[::sum].value\n",
    "        test_int = 0.0\n",
    "        start_bin = initial_histo.shape[0]-1\n",
    "        while test_int < (cut_fraction)*initial_integral:\n",
    "            test_int = initial_histo[start_bin:hist.overflow:sum].value\n",
    "            if test_int >= (cut_fraction)*initial_integral:\n",
    "                break\n",
    "            else:\n",
    "                start_bin = start_bin - 1\n",
    "            if start_bin == 0:\n",
    "                break\n",
    "        return initial_histo.axes[0].centers[start_bin]\n",
    "\n",
    "\n",
    "    def findCutValueGT(initial_histo, cut_fraction):\n",
    "        initial_integral = initial_histo[::sum].value\n",
    "        test_int = 0.0\n",
    "        start_bin = 1\n",
    "        while test_int < (cut_fraction)*initial_integral:\n",
    "            test_int = initial_histo[:start_bin:sum].value\n",
    "            if test_int >= (cut_fraction)*initial_integral:\n",
    "                break\n",
    "            else:\n",
    "                start_bin = start_bin + 1\n",
    "            if start_bin >= initial_histo.shape[0]-1:\n",
    "                start_bin = initial_histo.shape[0]-1\n",
    "                break\n",
    "        return initial_histo.axes[0].centers[start_bin]\n",
    "\n",
    "    from matplotlib.backends.backend_pdf import PdfPages\n",
    "    figures = {}\n",
    "    \n",
    "    def getMaxAbsZ0(ele_z0, pos_z0):\n",
    "        condition = abs(ele_z0) > abs(pos_z0)\n",
    "        max_z0 = ak.where(condition, abs(ele_z0), abs(pos_z0))\n",
    "        return max_z0\n",
    "    \n",
    "    def getMinAbsZ0(ele_z0, pos_z0):\n",
    "        condition = abs(ele_z0) < abs(pos_z0)\n",
    "        min_z0 = ak.where(condition, abs(ele_z0), abs(pos_z0))\n",
    "        return min_z0\n",
    "    \n",
    "    #Add signal z0 max\n",
    "    min_z0_arr_sig = getMinAbsZ0(signal_arrays[\"unc_vtx_ele_track_z0\"], signal_arrays[\"unc_vtx_pos_track_z0\"])\n",
    "    signal_arrays[\"unc_vtx_min_z0\"] = min_z0_arr_sig\n",
    "    \n",
    "    #Add bkg z0 max\n",
    "    min_z0_arr_bkg = getMinAbsZ0(bkg_arrays[\"unc_vtx_ele_track_z0\"], bkg_arrays[\"unc_vtx_pos_track_z0\"])\n",
    "    bkg_arrays[\"unc_vtx_min_z0\"] = min_z0_arr_bkg\n",
    "\n",
    "    #Fill histograms before iterating\n",
    "    fillVarHistos1d(bkg_histos1d, bkg_arrays,reset=True)\n",
    "    fillVarHistos1d(signal_histos1d, signal_arrays, reset=True)\n",
    "    mod = 'pre_iter'\n",
    "    saveAnaHistos1d(outfile, bkg_histos1d, subdir=f'{mod}', mod=mod,makePlots=False)\n",
    "    saveAnaHistos1d(outfile, signal_histos1d, subdir=f'{mod}', mod=mod, makePlots=False)\n",
    "    \n",
    "    #Fill 2d histograms\n",
    "    fillHistos2d(bkg_histos2d, bkg_arrays, reset=True)\n",
    "    fillHistos2d(signal_histos2d, signal_arrays, reset=True)\n",
    "    #plotBkgSig2DSBS(signal_histos2d, bkg_histos2d, text='pre-iter', text_x=0.8, text_y=0.8, text_ax=True, PDF=PDF)\n",
    "    for key, histo in signal_histos2d.items():\n",
    "        fig = plotHisto2D(histo, text='iter-1', text_x=0.8, text_y=0.8, text_ax=True)\n",
    "        plt.savefig(f'{plots_dir}/{histo.metadata.get(\"title\")}_iter-1.png')\n",
    "        plt.close(fig)\n",
    "    for key, histo in bkg_histos2d.items():\n",
    "        fig = plotHisto2D(histo, text='iter-1', text_x=0.8, text_y=0.8, text_ax=True)\n",
    "        plt.savefig(f'{plots_dir}/{histo.metadata.get(\"title\")}_iter-1.png')\n",
    "        plt.close(fig)\n",
    "    #plotHistos2DPDF(signal_histos2d, PDF, text='pre-iter', text_x=0.8, text_y=0.8, text_ax=True)\n",
    "    #plotHistos2DPDF(bkg_histos2d,PDF, text='pre-iter', text_x=0.8, text_y=0.8, text_ax=True)\n",
    "    plt.close('all')\n",
    "\n",
    "    #Graphs to track performance\n",
    "    nsigs = []\n",
    "    nbkgs = []\n",
    "    zbis = []\n",
    "    cut_values = []\n",
    "    effs = []\n",
    "\n",
    "    max_iter = 90\n",
    "    step_size = 0.01\n",
    "    initial_histo = outfile[f'pre_iter/unc_vtx_min_z0_signal'].to_hist()\n",
    "    for iteration in range(0,max_iter):\n",
    "        if iteration%10 == 0:\n",
    "            print(\"Iteration: \", iteration)\n",
    "        iter_subdir=f'iter_{iteration}'\n",
    "        cut_fraction = iteration*step_size\n",
    "        #cut_value = findCutValue(signal_histos1d[\"unc_vtx_zalpha_max\"], initial_nsig, iteration, step_size)\n",
    "        cut_value = findCutValueGT(initial_histo, cut_fraction)\n",
    "        cut_values.append(cut_value)\n",
    "        #Apply cut to signal and background\n",
    "        if iteration > 0:\n",
    "            signal_arrays = flatZ0Cut(signal_arrays, cut_value)\n",
    "            bkg_arrays = flatZ0Cut(bkg_arrays, cut_value)\n",
    "\n",
    "        #Signal efficiency starting from no cut\n",
    "        eff = len(signal_arrays['unc_vtx_min_z0'])/initial_histo[::sum].value\n",
    "        effs.append(eff)\n",
    "\n",
    "        #Fill histograms for this iteration\n",
    "        mod = f'iter_{iteration}'\n",
    "        fillVarHistos1d(bkg_histos1d, bkg_arrays,reset=True)\n",
    "        fillVarHistos1d(signal_histos1d, signal_arrays, reset=True)\n",
    "        saveAnaHistos1d(outfile, bkg_histos1d, subdir = iter_subdir, mod=mod,makePlots=False)\n",
    "        saveAnaHistos1d(outfile, signal_histos1d, subdir = iter_subdir, mod=mod,makePlots=False)\n",
    "        \n",
    "        #Fill 2d histograms\n",
    "        fillHistos2d(bkg_histos2d, bkg_arrays, reset=True)\n",
    "        fillHistos2d(signal_histos2d, signal_arrays, reset=True)\n",
    "        #plotBkgSig2DSBS(signal_histos2d, bkg_histos2d, text=f'iteration_{iteration}', text_x=0.8, text_y=0.8, text_ax=True, PDF=PDF)\n",
    "        #plotHistos2DPDF(signal_histos2d,PDF, text=f'iteration_{iteration}', text_x=0.8, text_y=0.8, text_ax=True)\n",
    "        #plotHistos2DPDF(bkg_histos2d,PDF, text=f'iteration_{iteration}', text_x=0.8, text_y=0.8, text_ax=True)\n",
    "        for key, histo in signal_histos2d.items():\n",
    "            fig = plotHisto2D(histo, text=f'iteration_{iteration}', text_x=0.8, text_y=0.8, text_ax=True)\n",
    "            plt.savefig(f'{plots_dir}/{histo.metadata.get(\"title\")}_iter{iteration}.png')\n",
    "            plt.close(fig)\n",
    "        for key, histo in bkg_histos2d.items():\n",
    "            fig = plotHisto2D(histo, text=f'iteration_{iteration}', text_x=0.8, text_y=0.8, text_ax=True)\n",
    "            plt.savefig(f'{plots_dir}/{histo.metadata.get(\"title\")}_iter{iteration}.png')\n",
    "            plt.close(fig)\n",
    "                \n",
    "        plt.close('all')\n",
    "\n",
    "        #Count remaining background beyond zposition\n",
    "        target_pos = -4.3 #mm\n",
    "        nbkg = bkg_sf_SR*bkg_histos1d[\"unc_vtx_z\"][loc(target_pos):hist.overflow:sum]\n",
    "        nbkgs.append(nbkg)\n",
    "        #print(\"Nbkg:\",nbkg)\n",
    "\n",
    "        #Get signal selection efficiency F(z)\n",
    "        weights=signal_histos1d[\"vd_true_vtx_z\"].counts()/simZ_h.counts()\n",
    "        nan_mask = np.isnan(weights)\n",
    "        weights = ak.where(nan_mask, 0, weights)\n",
    "        selEffZ_h = histo1d(f\"sel_eff_signal\",200,-50.3,149.7,xlabel=\"truth vtx z [mm]\", logY=True, label='signal', color='green')\n",
    "        selEffZ_h.fill(signal_histos1d[\"vd_true_vtx_z\"].axes[0].centers, \n",
    "                       weight=weights)\n",
    "        writeHisto(outfile,selEffZ_h, subdir=iter_subdir)\n",
    "\n",
    "        #Calculate Expected Signal\n",
    "        signal_meanEnergyGeV = 1.4\n",
    "\n",
    "        apProduction = calculateTotalApProduction(mass_ap, eps, radFrac, radAcc, dNdm)\n",
    "        nsig_rho = calculateExpectedSignal(mass, mass_ap, mass_pid, mass_lepton, fpid, alpha_dark, eps, selEffZ_h, target_pos, apProduction, signal_meanEnergyGeV, True)\n",
    "        nsig_phi = calculateExpectedSignal(mass, mass_ap, mass_pid, mass_lepton, fpid, alpha_dark, eps, selEffZ_h, target_pos, apProduction, signal_meanEnergyGeV, False)\n",
    "        #print(\"Expected Signal rho:\",nsig_rho)\n",
    "        #print(\"Expected Signal phi:\",nsig_phi)\n",
    "        nsig_total = signal_sf*(nsig_rho+nsig_phi)\n",
    "        nsigs.append(nsig_total)\n",
    "        #print(\"Total Expected Signal:\", nsig_total)\n",
    "        zbi = calculateZBi(nsig_total+nbkg, nbkg, 1.0)\n",
    "        zbis.append(zbi)\n",
    "        \n",
    "        plt.close('all')\n",
    "\n",
    "    #PDF.close()\n",
    "    xvalues = [i+1 for i in range(len(zbis))]\n",
    "    #fig, ax = plt.subplots()\n",
    "    fig, ax = plt.subplots(figsize=(15,5))\n",
    "    ax.plot(xvalues, nsigs, label='Nsig',color='blue')\n",
    "    ax.plot(xvalues, nbkgs, label='Nbkg',color='red')\n",
    "    ax.set_yscale('log')\n",
    "    ax.set_ylabel('Nsig and Nbkg')\n",
    "    ax.set_xlabel(\"Iteration Number\")\n",
    "    ax.tick_params(axis='y')\n",
    "    ax.set_ylim(bottom=0.0, top=1000)\n",
    "    ax.yaxis.grid(True, linestyle='--', which='major', color='gray', alpha=0.7)\n",
    "\n",
    "    ax2 = ax.twinx()\n",
    "    ax2.plot(xvalues, zbis, label='ZBi',color='green')\n",
    "    ax2.set_ylabel('ZBi', color='green')\n",
    "    ax2.tick_params(axis='y',labelcolor='green')\n",
    "    ax2.set_ylim(bottom=0.1, top=8)\n",
    "    #ax2.text(1,6,f'zalpha_slope_{zalpha_slope}')\n",
    "\n",
    "    fig.legend(loc='center')\n",
    "    with PdfPages(f'{outdir}/mass_{mass}_flat_z0_cut.pdf') as pdf:\n",
    "        fig.axes[0].set_ylim(bottom=1,top=10000000)\n",
    "        pdf.savefig(fig)\n",
    "    \n",
    "    #Save data as TGraphs\n",
    "    graphs = {}\n",
    "    graphs['nsig'] = r.TGraph(len(xvalues), np.array(xvalues,dtype=float), np.array(nsigs,dtype=float))\n",
    "    graphs['nbkg'] = r.TGraph(len(xvalues), np.array(xvalues,dtype=float), np.array(nbkgs,dtype=float))\n",
    "    graphs['zbis'] = r.TGraph(len(xvalues), np.array(xvalues,dtype=float), np.array(zbis,dtype=float))\n",
    "    graphs['cut_values'] = r.TGraph(len(xvalues), np.array(xvalues,dtype=float), np.array(cut_values,dtype=float))\n",
    "    graphs['eff'] = r.TGraph(len(xvalues), np.array(xvalues,dtype=float), np.array(effs,dtype=float))\n",
    "    for key, graph in graphs.items():\n",
    "        outfile[f'{key}_g'] = graph"
   ]
  }
 ],
 "metadata": {
  "kernelspec": {
   "display_name": "Python 3",
   "language": "python",
   "name": "python3"
  },
  "language_info": {
   "codemirror_mode": {
    "name": "ipython",
    "version": 3
   },
   "file_extension": ".py",
   "mimetype": "text/x-python",
   "name": "python",
   "nbconvert_exporter": "python",
   "pygments_lexer": "ipython3",
   "version": "3.6.8"
  }
 },
 "nbformat": 4,
 "nbformat_minor": 5
}
