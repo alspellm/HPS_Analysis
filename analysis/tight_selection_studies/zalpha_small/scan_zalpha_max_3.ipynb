{
 "cells": [
  {
   "cell_type": "code",
   "execution_count": null,
   "id": "2a7231aa-89da-4e13-9b06-8dec21be96d6",
   "metadata": {
    "tags": []
   },
   "outputs": [],
   "source": [
    "#%matplotlib agg\n",
    "%matplotlib inline\n",
    "import os\n",
    "import uproot\n",
    "import ROOT as r\n",
    "import math\n",
    "import awkward as ak\n",
    "import hist\n",
    "from hist import Hist\n",
    "import sys\n",
    "import argparse\n",
    "import hist\n",
    "from hist import loc\n",
    "import numpy as np\n",
    "%matplotlib inline\n",
    "import matplotlib.pyplot as plt\n",
    "import matplotlib as mpl\n",
    "import mplhep\n",
    "mpl.style.use(mplhep.style.ROOT)\n",
    "from matplotlib.colors import LinearSegmentedColormap\n",
    "from SimpEquations_validated import SimpEquations as simpeqs\n",
    "\n",
    "# Define the custom colormap\n",
    "cmap = LinearSegmentedColormap.from_list('custom_cmap', ['white', 'blue'])\n",
    "colors = [(1, 1, 1), (0, 0, 0.5), (0.5, 0.5, 0), (1, 0, 0)]  # White, Dark Blue, Yellow, Red\n",
    "n_bins = [0, 0.00001, 0.5, 1.0]\n",
    "cmap = LinearSegmentedColormap.from_list('custom_cmap', list(zip(n_bins, colors)))\n",
    "\n"
   ]
  },
  {
   "cell_type": "code",
   "execution_count": null,
   "id": "907f6490-7496-42f8-8cf3-fd294e685111",
   "metadata": {
    "tags": []
   },
   "outputs": [],
   "source": [
    "parser = argparse.ArgumentParser()\n",
    "parser.add_argument('-m', '--mass',help='mass in mev', default=55.0)\n",
    "parser.add_argument('-c','--cutVariables', type=str, dest=\"cutVariables\",\n",
    "                    help='Select cut variables to iterate', default=[],nargs='*')\n",
    "args = parser.parse_args(args=[])"
   ]
  },
  {
   "cell_type": "markdown",
   "id": "c4170927-0060-4601-a3b2-92f41fd4b7e6",
   "metadata": {},
   "source": [
    "## **Define useful functions**"
   ]
  },
  {
   "cell_type": "code",
   "execution_count": null,
   "id": "ca0aed8a-b749-4c5e-9f4c-5a7b49c18ad8",
   "metadata": {
    "tags": []
   },
   "outputs": [],
   "source": [
    "def getTBranchArrays(events, branches=[],mass_low=0.0, mass_high=999.9):\n",
    "    #arrays = events.arrays(branches, f'unc_vtx_mass*1000. > {mass_low} & unc_vtx_mass*1000. < {mass_high}')\n",
    "    #arrays = events.arrays(branches, \"unc_vtx_mass*1000. > 52.0  & unc_vtx_mass*1000. < 57.0\")\n",
    "    arrays = events.arrays(branches,f\"(unc_vtx_mass*1000.0 > {mass_low}) & (unc_vtx_mass*1000.0 < {mass_high})\")\n",
    "    return arrays\n",
    "\n",
    "def applyCorrection(array, variable, correction):\n",
    "    array[variable] = array[variable] + correction\n",
    "    \n",
    "def v0ProjSigCut(array, cut_value):\n",
    "    condition = array[\"unc_vtx_proj_sig\"] < cut_value\n",
    "    array = array[condition]\n",
    "    return array\n",
    "    \n",
    "def deltaZCut(array, par0, par1, mass_mev):\n",
    "    cut = par0 + par1*mass_mev\n",
    "    condition = array[\"unc_vtx_deltaZ\"] < cut\n",
    "    array = array[condition]\n",
    "    return array\n",
    "\n",
    "def zalphaCut(array, cut_value):\n",
    "    condition = array[\"unc_vtx_zalpha_max\"] < cut_value\n",
    "    array = array[condition]\n",
    "    return array\n",
    "\n",
    "def calculateZBi(n_on, n_off, tau):\n",
    "    P_Bi = r.TMath.BetaIncomplete(1./(1.+tau),n_on,n_off+1) #why plus 1?\n",
    "    Z_Bi = 2.**(0.5)*r.TMath.ErfInverse(1-2*P_Bi)\n",
    "    return Z_Bi\n",
    "    \n",
    "\n",
    "def zalphaTransformation(slope, recon_z, z0):\n",
    "    condition = z0 > 0.0\n",
    "    zalpha = ak.where(condition, recon_z - (z0/slope), recon_z + (z0/slope))\n",
    "    return zalpha"
   ]
  },
  {
   "cell_type": "markdown",
   "id": "1e32d908-efac-4f66-86bf-67a5b05e1231",
   "metadata": {},
   "source": [
    "## **Define RadFrac, RadAcc, MassRes**"
   ]
  },
  {
   "cell_type": "code",
   "execution_count": null,
   "id": "663c87c9-ff53-41bf-a608-ee896179c608",
   "metadata": {
    "tags": []
   },
   "outputs": [],
   "source": [
    "def radiativeFraction(mass_mev):\n",
    "    radF = -1.04206e-01 + 9.92547e-03*mass_mev + -1.99437e-04*pow(mass_mev,2) + 1.83534e-06*pow(mass_mev,3) + -7.93138e-9*pow(mass_mev,4) + 1.30456e-11*pow(mass_mev,5) #alic 2016 simps kf 11/15/22\n",
    "    return radF\n",
    "\n",
    "def radiativeAcceptance(mass_mev):\n",
    "    acc = ( -7.35934e-01 + 9.75402e-02*mass_mev + -5.22599e-03*pow(mass_mev,2) + 1.47226e-04*pow(mass_mev,3) + -2.41435e-06*pow(mass_mev,4) + 2.45015e-08*pow(mass_mev,5) + -1.56938e-10*pow(mass_mev,6) + 6.19494e-13*pow(mass_mev,7) + -1.37780e-15*pow(mass_mev,8) + 1.32155e-18*pow(mass_mev,9) ) #alic 2016 simps kf 11/15/22 \n",
    "    return acc\n",
    "\n",
    "#Calculated in 'makeMassRes.py'\n",
    "def massRes(mass):\n",
    "    res = 1.06314 + 3.45955e-02*mass + -6.62113e-05*pow(mass,2) # 2016 simps kf 11/15/22\n",
    "    return res\n",
    "\n",
    "#Calculate efficiency vertex\n",
    "def calculateTotalApProduction(mass_ap, eps, radFrac, radAcc, dNdm_CR):\n",
    "    apProduction = (3.*(137./2.)*3.14159)* (mass_ap * eps*eps * radFrac * dNdm_CR)/radAcc\n",
    "    return apProduction\n",
    "\n",
    "def calculateExpectedSignal(mass, mass_ap, mass_pid, mass_lepton, fpid, alpha_dark, eps, selEffZ_h, target_pos, apProduction, signal_meanEnergyGeV, rho=True):\n",
    "    ctau = simpeqs.getCtau(mass_ap, mass_pid, mass, eps, alpha_dark, fpid, mass_lepton, rho)\n",
    "    gcTau = ctau*simpeqs.gamma(mass/1000.0, signal_meanEnergyGeV)\n",
    "    effVtx = 0.0\n",
    "    for z in range(len(selEffZ_h.axes[0].centers)):\n",
    "        zz = selEffZ_h.axes[0].centers[z]\n",
    "        if zz < target_pos:\n",
    "            continue\n",
    "        effVtx += (math.exp((target_pos - zz)/gcTau)/gcTau)*selEffZ_h.values()[z]\n",
    "    br_VPi = 0.0\n",
    "    if rho:\n",
    "        br_VPi = simpeqs.br_Vrho_pi(mass_ap, mass_pid, mass, alpha_dark, fpid)\n",
    "    else:\n",
    "        br_VPi = simpeqs.br_Vphi_pi(mass_ap, mass_pid, mass, alpha_dark, fpid)\n",
    "    br_V_ee = 1.0\n",
    "    expSignal = apProduction * effVtx * br_VPi * br_V_ee\n",
    "    return expSignal"
   ]
  },
  {
   "cell_type": "markdown",
   "id": "1a7e14c9-52d8-46e8-bece-0f589a901b12",
   "metadata": {},
   "source": [
    "## **CONFIGURE HISTOGRAMS** ##"
   ]
  },
  {
   "cell_type": "code",
   "execution_count": null,
   "id": "a60306a8-a1b3-4fad-aada-6d6b291b9e03",
   "metadata": {
    "tags": []
   },
   "outputs": [],
   "source": [
    "\n",
    "def defineHistos1d(category, color='blue'):\n",
    "    histos = {}\n",
    "    histos[\"unc_vtx_proj_sig\"] = histo1d(f\"unc_vtx_proj_sig_{category}\",100,0,10,xlabel=\"V0 Projection Significance\", label=category, color=color)\n",
    "    histos[\"unc_vtx_deltaZ\"] = histo1d(f\"unc_vtx_deltaZ_{category}\",50,0,10,xlabel=\"deltaZ\", label=category, color=color)\n",
    "    histos[\"unc_vtx_z\"] = histo1d(f\"unc_vtx_z_{category}\",120,-20,100,xlabel=\"recon z [mm]\", logY=True, label=category, color=color)\n",
    "    histos[\"unc_vtx_zalpha_max\"] = histo1d(f\"unc_vtx_zalpha_max_{category}\",1000,-10000,100,xlabel=\"zalpha max\", logY=False, label=category, color=color)\n",
    "    histos[\"vd_true_vtx_z\"] = histo1d(f\"vd_true_vtx_z_{category}\",200,-50.3,149.7,xlabel=\"truth vtx z [mm]\", logY=True, label=category, color=color)\n",
    "    histos[\"vd_true_vtx_energy\"] = histo1d(f\"vd_true_vtx_energy_{category}\",250,0.0,2.5,xlabel=\"truth energy [GeV]\", logY=False, label=category, color=color)\n",
    "    return histos\n",
    "\n",
    "def fillVarHistos1d(histos_dict, array, reset=False):\n",
    "    for key, histo in histos_dict.items():\n",
    "        if reset == True:\n",
    "            histo.reset()\n",
    "        if key in array.fields:\n",
    "            histo.fill(array[key])\n",
    "            \n",
    "def saveAnaHistos1d(outfile, histos_dict, mod='', subdir='', makePlots=False):\n",
    "    for key, histo in histos_dict.items():\n",
    "        writeHisto(outfile, histo,subdir=subdir)\n",
    "        if makePlots:\n",
    "            plotHisto1d(histo,mod=mod)\n",
    "            makeStatsBox(histo)"
   ]
  },
  {
   "cell_type": "code",
   "execution_count": null,
   "id": "dee3a689-a4cd-42b7-8e78-b4d80cc63b6a",
   "metadata": {
    "tags": []
   },
   "outputs": [],
   "source": [
    "def histo1d(name,nbins,xmin,xmax,title='',label='',xlabel='',ylabel='events',logY=False, color='blue'):\n",
    "    if title == '':\n",
    "        title = name\n",
    "    histogram = hist.Hist(hist.axis.Regular(nbins,xmin,xmax,flow=True, name=name,label=xlabel), \n",
    "          metadata={\"name\":name,\"title\":title, \"xlabel\":xlabel, \"ylabel\":ylabel, \"label\":label,\n",
    "                   \"logY\":logY, \"color\":color})   \n",
    "    return histogram\n",
    "\n",
    "def makeStatsBox(h, x=0.5, y=0.9, spacing=0.05, color='red'):\n",
    "    # Display number of entries, underflow, and overflow as text annotations\n",
    "    plt.annotate(f'Entries: {h[::sum]}', xy=(x, y), xycoords='axes fraction', color=color)\n",
    "    plt.annotate(f'Overflow: {h[hist.overflow]}', xy=(x, y-(1.*spacing)), xycoords='axes fraction', color=color)\n",
    "    plt.annotate(f'Underflow: {h[hist.underflow]}', xy=(x, y-(2.*spacing)), xycoords='axes fraction', color=color)\n",
    "\n",
    "\n",
    "def plotHisto1d(histo,mod=''):\n",
    "    fig,ax = plt.subplots()\n",
    "    histo.plot(label=histo.metadata.get(\"label\"),color=histo.metadata.get(\"color\"))\n",
    "    plt.title(\"%s_%s\"%(histo.metadata.get(\"title\"),mod))\n",
    "    plt.xlabel(histo.metadata.get(\"xlabel\"))\n",
    "    plt.ylabel(histo.metadata.get(\"ylabel\"))\n",
    "    if histo.metadata.get(\"logY\") == True:\n",
    "        plt.yscale('log')\n",
    "    plt.legend()\n",
    "    \n",
    "def writeHisto(outfile, histo, subdir='', name=''):\n",
    "    if name == '':\n",
    "        name = histo.metadata.get(\"name\")\n",
    "    outfile[f'{subdir}/{name}'] = histo\n"
   ]
  },
  {
   "cell_type": "markdown",
   "id": "4eea8500-6ac0-425d-bec5-58d33e69b93e",
   "metadata": {},
   "source": [
    "## **Configure the run parameters**"
   ]
  },
  {
   "cell_type": "code",
   "execution_count": null,
   "id": "87b1e4e9-4f5f-4fc2-8ecd-0163f32d181b",
   "metadata": {
    "tags": []
   },
   "outputs": [],
   "source": [
    "#Specify mixing\n",
    "logeps2 = -5.5\n",
    "eps2 = pow(10,logeps2)\n",
    "eps = np.sqrt(eps2)\n",
    "\n",
    "#Mass\n",
    "mass = 65\n",
    "mass_nsigma = 3.5\n",
    "mass_low = float(mass) - mass_nsigma*massRes(float(mass))/2.0\n",
    "mass_high = float(mass) + mass_nsigma*massRes(float(mass))/2.0\n",
    "print(f'MASS WINDOW: {mass_low} - {mass_high} MeV')\n",
    "\n",
    "#SIMP Parameters\n",
    "alpha_dark = 0.01\n",
    "mass_ratio_ap_to_vd = 1.66\n",
    "mass_ratio_ap_to_pid = 3.0\n",
    "ratio_mpi_to_fpi = 4.0*3.14159\n",
    "mass_lepton = 0.511\n",
    "\n",
    "#Get masses\n",
    "mass_ap = mass*mass_ratio_ap_to_vd\n",
    "mass_low_ap = mass_ratio_ap_to_vd*mass_low\n",
    "mass_high_ap = mass_ratio_ap_to_vd*mass_high\n",
    "mass_pid = mass_ap/mass_ratio_ap_to_pid\n",
    "fpid = mass_pid/ratio_mpi_to_fpi\n",
    "\n",
    "#RadFrac and RadAcc eval at Ap mass\n",
    "radFrac = radiativeFraction(mass_ap) \n",
    "radAcc = radiativeAcceptance(mass_ap) \n",
    "\n",
    "#zalpha slope transformation\n",
    "zalpha_slope = 0.01"
   ]
  },
  {
   "cell_type": "markdown",
   "id": "c4c85e0f-e17d-4892-91ba-f81945bc9779",
   "metadata": {},
   "source": [
    "## **CONFIGURE DATA AND MC** ##"
   ]
  },
  {
   "cell_type": "code",
   "execution_count": null,
   "id": "672aa909-70fe-4116-9010-5ad2e7f7870f",
   "metadata": {
    "tags": []
   },
   "outputs": [],
   "source": [
    "#Background and Signal Files\n",
    "#truth_subdir_name = 'vtxana_radMatchTight_2016_simp_reach_SR'\n",
    "#truth_tree_name = \"vtxana_radMatchTight_2016_simp_reach_SR_tree\"\n",
    "\n",
    "#background/data\n",
    "bkg_branches = [\"unc_vtx_mass\",\"unc_vtx_z\",\"unc_vtx_proj_sig\",\"unc_vtx_deltaZ\",\"unc_vtx_ele_track_z0\",\"unc_vtx_pos_track_z0\",\"unc_vtx_ele_track_tanLambda\"]\n",
    "bkg_filename = '/sdf/group/hps/users/alspellm/projects/THESIS/data/2016/BLPass4c_20231006/ana_20231019/full_hadd_blpass4c_ana.root'\n",
    "bkg_subdir = 'vtxana_Tight_2016_simp_reach_SR'\n",
    "bkg_treename = 'vtxana_Tight_2016_simp_reach_SR_tree'\n",
    "bkg_subdirCR = 'vtxana_Tight_2016_simp_reach_CR'\n",
    "bkg_treenameCR = 'vtxana_Tight_2016_simp_reach_CR_tree'\n",
    "bkg_branchesCR = [\"unc_vtx_mass\"]\n",
    "bkg_sf_SR = 1.0\n",
    "bkg_sf_CR = 1.0\n",
    "\n",
    "#Signal\n",
    "signal_branches = [\"unc_vtx_mass\",\"unc_vtx_z\",\"unc_vtx_proj_sig\",\"unc_vtx_deltaZ\",\"unc_vtx_ele_track_z0\",\"unc_vtx_pos_track_z0\",\"unc_vtx_ele_track_tanLambda\",\"unc_vtx_pos_track_tanLambda\",\"vd_true_vtx_z\",\"vd_true_vtx_energy\"]\n",
    "signal_subdir = 'vtxana_radMatchTight_2016_simp_reach_SR'\n",
    "signal_treename = 'vtxana_radMatchTight_2016_simp_reach_SR_tree'\n",
    "signal_filename = '/sdf/group/hps/users/alspellm/projects/THESIS/mc/2016/simps/signal_beam/20230713_slic/20230713_readout/hps-java_v5pt2pt1/pass4/recon_20231009/ana_20231020/hadd_simp_signal_%s_MeV_beam_ana.root'%(int(mass))\n",
    "signal_sf = 10.0\n",
    "#Truth Signal\n",
    "signal_truth_filename = '/sdf/group/hps/users/alspellm/projects/THESIS/mc/2016/simps/slic/20230713_slic/20230724_slic_ana/ana_files/hadd_simp_%s_MeV_rot_slic_mcana.root'%(int(mass))\n",
    "truth_mc_selection = 'vtxana_mc_radMatchTight_2016_simp_reach_SR'\n",
    "truth_mc_tree='vtxana_mc_radMatchTight_2016_simp_reach_SR_tree'\n",
    "pdgid = 625"
   ]
  },
  {
   "cell_type": "markdown",
   "id": "bfb525bb-071e-4685-a9eb-a60735b29872",
   "metadata": {},
   "source": [
    "## **LOAD TRUTH SIGNAL** ##"
   ]
  },
  {
   "cell_type": "code",
   "execution_count": null,
   "id": "e401f2cd-69f4-4aa3-9425-293ca5e62d2c",
   "metadata": {
    "tags": []
   },
   "outputs": [],
   "source": [
    "#Signal truth recon z\n",
    "sbudir = \"vtxana_radMatchTight_2016_simp_reach_SR\"\n",
    "signal_truth_file = uproot.open(signal_truth_filename)\n",
    "#truth_z_h = signal_truth_file[f'{subdir}/{tree_name}'].arrays(branches=[f'vdSimZ\n",
    "truth_z_h = signal_truth_file[\"mcAna/mcAna_mc625Z_h\"].to_hist()\n",
    "signal_truth_file.close\n",
    "signal_truthE_h = histo1d('signal_truthE',250,0.0,2.5,title='truth energy',label='truth energy',xlabel='truth energy [GeV]',ylabel='MC Events',logY=False, color='blue')\n",
    "simZ_h = histo1d('signal_simZ',200,-50.3,149.7,title='signal_simZ',label='signal simZ',xlabel='true zvtx [mm]',ylabel='MC Events',logY=False, color='blue')\n",
    "#selZ_h = histo1d('signal_selZ',200,-50.3,149.7,title='signal_selZ',label='signal selZ',xlabel='true zvtx [mm]',ylabel='MC Events',logY=False, color='blue')\n",
    "simZ_h.fill(truth_z_h.axes[0].centers, weight=truth_z_h.counts())"
   ]
  },
  {
   "cell_type": "markdown",
   "id": "8e8f224c-a308-4ff2-a917-4976e26e72cd",
   "metadata": {},
   "source": [
    "## **LOAD DATA** ##"
   ]
  },
  {
   "cell_type": "code",
   "execution_count": null,
   "id": "e9c90c2f-4a95-417a-8aec-784bc1e061ea",
   "metadata": {
    "tags": []
   },
   "outputs": [],
   "source": [
    "#Read background for mass window\n",
    "bkg_file = uproot.open(bkg_filename)\n",
    "bkg_tree = bkg_file[f'{bkg_subdir}/{bkg_treename}']\n",
    "bkg_arrays = getTBranchArrays(bkg_tree,bkg_branches, mass_low, mass_high)\n",
    "bkg_treeCR = bkg_file[f'{bkg_subdirCR}/{bkg_treenameCR}']\n",
    "\n",
    "#Get background rate in control region, eval at Ap mass, NOT Vd mass\n",
    "bkg_arraysCR = getTBranchArrays(bkg_treeCR, bkg_branchesCR, \n",
    "                                mass_low_ap, mass_high_ap)"
   ]
  },
  {
   "cell_type": "code",
   "execution_count": null,
   "id": "8df23667-e123-479c-945c-e26c59762533",
   "metadata": {
    "tags": []
   },
   "outputs": [],
   "source": [
    "dNdm = bkg_sf_CR*len(bkg_arraysCR[\"unc_vtx_mass\"])/(mass_high_ap-mass_low_ap)\n",
    "#dNdm = dNdm_h.counts().sum()/(mass_high-mass_low)\n",
    "print(\"Background Rate dNdm:\",dNdm)\n",
    "\n",
    "bkg_file.close()\n",
    "\n",
    "#Add zalpha max\n",
    "#max_zalpha_arr = np.maximum(zalphaTransformation(zalpha_slope,bkg_arrays[\"unc_vtx_z\"],bkg_arrays[\"unc_vtx_ele_track_z0\"]),\n",
    "                 #           zalphaTransformation(zalpha_slope,bkg_arrays[\"unc_vtx_z\"],bkg_arrays[\"unc_vtx_pos_track_z0\"]))\n",
    "#bkg_arrays[\"unc_vtx_zalpha_max\"] = max_zalpha_arr"
   ]
  },
  {
   "cell_type": "markdown",
   "id": "ac4b2b8b-3f97-458a-81e6-59259a9e95f8",
   "metadata": {},
   "source": [
    "## **LOAD SIGNAL** ##"
   ]
  },
  {
   "cell_type": "code",
   "execution_count": null,
   "id": "39f0120f-13ed-4905-9cbb-28fa9122eed7",
   "metadata": {
    "tags": []
   },
   "outputs": [],
   "source": [
    "#Read signal for mass window\n",
    "signal_file = uproot.open(signal_filename)\n",
    "signal_tree = signal_file[f'{signal_subdir}/{signal_treename}']\n",
    "signal_arrays = getTBranchArrays(signal_tree,signal_branches,mass_low,mass_high)\n",
    "signal_file.close()\n",
    "\n",
    "#Apply z0 corrections\n",
    "applyCorrection(signal_arrays,'unc_vtx_ele_track_z0', -0.058)\n",
    "applyCorrection(signal_arrays,'unc_vtx_pos_track_z0', -0.098)\n",
    "\n",
    "#Add zalpha max\n",
    "#max_zalpha_arr = np.maximum(zalphaTransformation(zalpha_slope,signal_arrays[\"unc_vtx_z\"],signal_arrays[\"unc_vtx_ele_track_z0\"]),\n",
    "#                            zalphaTransformation(zalpha_slope,signal_arrays[\"unc_vtx_z\"],signal_arrays[\"unc_vtx_pos_track_z0\"]))\n",
    "#signal_arrays[\"unc_vtx_zalpha_max\"] = max_zalpha_arr"
   ]
  },
  {
   "cell_type": "code",
   "execution_count": null,
   "id": "d24211dd-91f0-40c5-823a-9db354c3f4cd",
   "metadata": {
    "tags": []
   },
   "outputs": [],
   "source": [
    "## **INITIALIZE HISTOGRAMS** ##"
   ]
  },
  {
   "cell_type": "code",
   "execution_count": null,
   "id": "995e78f7-e354-421e-8814-636dfd0d4861",
   "metadata": {
    "tags": []
   },
   "outputs": [],
   "source": [
    "#Create ROOT file to store histograms\n",
    "outdir = 'output_larger_slopes'\n",
    "outfile = uproot.recreate(f'./{outdir}/mass_{mass}_zalpha_slope_study.root')\n",
    "#Define Initial background and signal histograms\n",
    "bkg_histos1d = defineHistos1d('bkg') \n",
    "signal_histos1d = defineHistos1d('signal', color='red')\n",
    "#Fill initial histograms\n",
    "fillVarHistos1d(bkg_histos1d, bkg_arrays)\n",
    "fillVarHistos1d(signal_histos1d, signal_arrays)\n",
    "\n",
    "mod = 'initial'\n",
    "saveAnaHistos1d(outfile, bkg_histos1d, subdir=mod, mod=mod, makePlots=False)\n",
    "saveAnaHistos1d(outfile, signal_histos1d, subdir=mod, mod=mod, makePlots=False)"
   ]
  },
  {
   "cell_type": "markdown",
   "id": "e41167ae-4b59-4a02-afe6-926e23f95da9",
   "metadata": {},
   "source": [
    "## **Configure High-Z Cuts** ##"
   ]
  },
  {
   "cell_type": "code",
   "execution_count": null,
   "id": "a3ea2f23-f8b0-49ff-80c7-3f70bdf6cd83",
   "metadata": {
    "tags": []
   },
   "outputs": [],
   "source": [
    "deltaZ_par0 = 18.5972\n",
    "deltaZ_par1 = 0.159555\n",
    "v0projSig_cutvalue = 2.0"
   ]
  },
  {
   "cell_type": "code",
   "execution_count": null,
   "id": "21b4fbd0-3d9f-4a1c-a0ad-b77c309d9ad7",
   "metadata": {
    "tags": []
   },
   "outputs": [],
   "source": [
    "#Apply initial high-z cuts\n",
    "#v0ProjSigCut(signal_arrays, v0projSig_cutvalue)\n",
    "bkg_arrays = v0ProjSigCut(bkg_arrays, v0projSig_cutvalue)\n",
    "bkg_arrays = deltaZCut(bkg_arrays, deltaZ_par0, deltaZ_par1, mass)\n",
    "\n",
    "#Apply initial high-z cuts\n",
    "signal_arrays = v0ProjSigCut(signal_arrays, v0projSig_cutvalue)\n",
    "signal_arrays = deltaZCut(signal_arrays, deltaZ_par0, deltaZ_par1, mass)"
   ]
  },
  {
   "cell_type": "code",
   "execution_count": null,
   "id": "db004fad-e9cb-46e0-9aa8-c85562dbfc1b",
   "metadata": {
    "tags": []
   },
   "outputs": [],
   "source": [
    "\n"
   ]
  },
  {
   "cell_type": "markdown",
   "id": "60cb87c4-64b4-431f-8454-8b4a78a8b6e6",
   "metadata": {},
   "source": [
    "## **BEGIN ITERATING CUT VALUE** ##"
   ]
  },
  {
   "cell_type": "code",
   "execution_count": null,
   "id": "488a13c5-4402-4918-b105-ef4bf6ad6465",
   "metadata": {},
   "outputs": [],
   "source": [
    "def findCutValue(initial_histo, cut_fraction):\n",
    "    initial_integral = initial_histo[::sum].value\n",
    "    test_int = 0.0\n",
    "    start_bin = initial_histo.shape[0]-1\n",
    "    while test_int < (cut_fraction)*initial_integral:\n",
    "        test_int = initial_histo[start_bin:hist.overflow:sum].value\n",
    "        if test_int >= (cut_fraction)*initial_integral:\n",
    "            break\n",
    "        else:\n",
    "            start_bin = start_bin - 1\n",
    "        if start_bin == 0:\n",
    "            break\n",
    "    return initial_histo.axes[0].centers[start_bin]\n",
    "            \n",
    "#Iterate over zalpha slopes\n",
    "from matplotlib.backends.backend_pdf import PdfPages\n",
    "n_slopes = 6\n",
    "figures = {}\n",
    "for n,zalpha_slope in enumerate(range(1,n_slopes+1)):\n",
    "    zalpha_slope = zalpha_slope/10000.\n",
    "    zalpha_subdir = f'slope_{zalpha_slope}'\n",
    "    print(\"Running Zalpha Slope:\",zalpha_slope)\n",
    "    \n",
    "    #Copy arrays\n",
    "    iter_signal_arrays = signal_arrays\n",
    "    iter_bkg_arrays = bkg_arrays\n",
    "\n",
    "    #Add signal zalpha max\n",
    "    max_zalpha_arr_sig = np.maximum(zalphaTransformation(zalpha_slope,iter_signal_arrays[\"unc_vtx_z\"],iter_signal_arrays[\"unc_vtx_ele_track_z0\"]),\n",
    "                                zalphaTransformation(zalpha_slope,iter_signal_arrays[\"unc_vtx_z\"],iter_signal_arrays[\"unc_vtx_pos_track_z0\"]))\n",
    "    iter_signal_arrays[\"unc_vtx_zalpha_max\"] = max_zalpha_arr_sig\n",
    "\n",
    "    #Add bkg zalpha max\n",
    "    max_zalpha_arr_bkg = np.maximum(zalphaTransformation(zalpha_slope,iter_bkg_arrays[\"unc_vtx_z\"],iter_bkg_arrays[\"unc_vtx_ele_track_z0\"]),\n",
    "                                zalphaTransformation(zalpha_slope,iter_bkg_arrays[\"unc_vtx_z\"],iter_bkg_arrays[\"unc_vtx_pos_track_z0\"]))\n",
    "    iter_bkg_arrays[\"unc_vtx_zalpha_max\"] = max_zalpha_arr_bkg\n",
    "    \n",
    "    minzalpha = ak.min(ak.concatenate([max_zalpha_arr_sig, max_zalpha_arr_bkg]))-10.0\n",
    "    #maxzalpha = ak.max(ak.concatenate([max_zalpha_arr_sig, max_zalpha_arr_bkg]))+10.0\n",
    "    maxzalpha = 100\n",
    "    #nbins = int((maxzalpha-minzalpha)/10.0)\n",
    "    nbins = 1000\n",
    "    \n",
    "    signal_histos1d[\"unc_vtx_zalpha_max\"] = histo1d(f\"unc_vtx_zalpha_max_signal\",nbins,minzalpha,maxzalpha,xlabel=\"zalpha max\", logY=False, label='signal')\n",
    "    bkg_histos1d[\"unc_vtx_zalpha_max\"] = histo1d(f\"unc_vtx_zalpha_max_bkg\",nbins,minzalpha,maxzalpha,xlabel=\"zalpha max\", logY=False, label='bkg')\n",
    "    \n",
    "    #Fill histograms before iterating\n",
    "    fillVarHistos1d(bkg_histos1d, iter_bkg_arrays,reset=True)\n",
    "    fillVarHistos1d(signal_histos1d, iter_signal_arrays, reset=True)\n",
    "    mod = 'pre_iter'\n",
    "    saveAnaHistos1d(outfile, bkg_histos1d, subdir=f'{zalpha_subdir}/{mod}', mod=mod,makePlots=False)\n",
    "    saveAnaHistos1d(outfile, signal_histos1d, subdir=f'{zalpha_subdir}/{mod}', mod=mod, makePlots=False)\n",
    "\n",
    "    #Graphs to track performance\n",
    "    nsigs = []\n",
    "    nbkgs = []\n",
    "    zbis = []\n",
    "    cut_values = []\n",
    "    effs = []\n",
    "\n",
    "    max_iter = 95\n",
    "    step_size = 0.01\n",
    "    initial_histo = outfile[f'{zalpha_subdir}/pre_iter/unc_vtx_zalpha_max_signal'].to_hist()\n",
    "    #initial_nsig = (outfile[\"initial/unc_vtx_zalpha_max_signal\"].to_hist()[::sum].value)\n",
    "    for iteration in range(0,max_iter):\n",
    "        if iteration%10 == 0:\n",
    "            print(\"Iteration: \", iteration)\n",
    "        iter_subdir=f'{zalpha_subdir}/iter_{iteration}'\n",
    "        cut_fraction = iteration*step_size\n",
    "        #cut_value = findCutValue(signal_histos1d[\"unc_vtx_zalpha_max\"], initial_nsig, iteration, step_size)\n",
    "        cut_value = findCutValue(initial_histo, cut_fraction)\n",
    "        cut_values.append(cut_value)\n",
    "        #print(\"cut value:\",cut_value)\n",
    "        #Apply cut to signal and background\n",
    "        if iteration > 0:\n",
    "            iter_signal_arrays = zalphaCut(iter_signal_arrays,cut_value)\n",
    "            iter_bkg_arrays = zalphaCut(iter_bkg_arrays,cut_value)\n",
    "        \n",
    "        #Signal efficiency starting from no cut\n",
    "        eff = len(iter_signal_arrays['unc_vtx_zalpha_max'])/initial_histo[::sum].value\n",
    "        effs.append(eff)\n",
    "\n",
    "        #Fill histograms for this iteration\n",
    "        mod = f'iter_{iteration}_slope_{zalpha_slope}'\n",
    "        fillVarHistos1d(bkg_histos1d, iter_bkg_arrays,reset=True)\n",
    "        fillVarHistos1d(signal_histos1d, iter_signal_arrays, reset=True)\n",
    "        saveAnaHistos1d(outfile, bkg_histos1d, subdir = iter_subdir, mod=mod,makePlots=False)\n",
    "        saveAnaHistos1d(outfile, signal_histos1d, subdir = iter_subdir, mod=mod,makePlots=False)\n",
    "\n",
    "        #Count remaining background beyond zposition\n",
    "        target_pos = -4.3 #mm\n",
    "        nbkg = bkg_sf_SR*bkg_histos1d[\"unc_vtx_z\"][loc(target_pos):hist.overflow:sum]\n",
    "        nbkgs.append(nbkg)\n",
    "        #print(\"Nbkg:\",nbkg)\n",
    "\n",
    "        #Get signal selection efficiency F(z)\n",
    "        weights=signal_histos1d[\"vd_true_vtx_z\"].counts()/simZ_h.counts()\n",
    "        nan_mask = np.isnan(weights)\n",
    "        weights = ak.where(nan_mask, 0, weights)\n",
    "        selEffZ_h = histo1d(f\"sel_eff_signal\",200,-50.3,149.7,xlabel=\"truth vtx z [mm]\", logY=True, label='signal', color='green')\n",
    "        selEffZ_h.fill(signal_histos1d[\"vd_true_vtx_z\"].axes[0].centers, \n",
    "                       weight=weights)\n",
    "        writeHisto(outfile,selEffZ_h, subdir=iter_subdir)\n",
    "\n",
    "        #Calculate Expected Signal\n",
    "        signal_meanEnergyGeV = 1.4\n",
    "\n",
    "        apProduction = calculateTotalApProduction(mass_ap, eps, radFrac, radAcc, dNdm)\n",
    "        nsig_rho = calculateExpectedSignal(mass, mass_ap, mass_pid, mass_lepton, fpid, alpha_dark, eps, selEffZ_h, target_pos, apProduction, signal_meanEnergyGeV, True)\n",
    "        nsig_phi = calculateExpectedSignal(mass, mass_ap, mass_pid, mass_lepton, fpid, alpha_dark, eps, selEffZ_h, target_pos, apProduction, signal_meanEnergyGeV, False)\n",
    "        #print(\"Expected Signal rho:\",nsig_rho)\n",
    "        #print(\"Expected Signal phi:\",nsig_phi)\n",
    "        nsig_total = signal_sf*(nsig_rho+nsig_phi)\n",
    "        nsigs.append(nsig_total)\n",
    "        #print(\"Total Expected Signal:\", nsig_total)\n",
    "        zbi = calculateZBi(nsig_total+nbkg, nbkg, 1.0)\n",
    "        zbis.append(zbi)\n",
    "    \n",
    "    \n",
    "    \n",
    "    xvalues = [i+1 for i in range(len(zbis))]\n",
    "    #fig, ax = plt.subplots()\n",
    "    fig, ax = plt.subplots(figsize=(15,5))\n",
    "    ax.plot(xvalues, nsigs, label='Nsig',color='blue')\n",
    "    ax.plot(xvalues, nbkgs, label='Nbkg',color='red')\n",
    "    ax.set_yscale('log')\n",
    "    ax.set_ylabel('Nsig and Nbkg')\n",
    "    ax.set_xlabel(\"Iteration Number\")\n",
    "    ax.tick_params(axis='y')\n",
    "    ax.set_ylim(bottom=0.0, top=1000)\n",
    "    ax.yaxis.grid(True, linestyle='--', which='major', color='gray', alpha=0.7)\n",
    "    \n",
    "    ax2 = ax.twinx()\n",
    "    ax2.plot(xvalues, zbis, label='ZBi',color='green')\n",
    "    ax2.set_ylabel('ZBi', color='green')\n",
    "    ax2.tick_params(axis='y',labelcolor='green')\n",
    "    ax2.set_ylim(bottom=0.1, top=8)\n",
    "    ax2.text(1,6,f'zalpha_slope_{zalpha_slope}')\n",
    "\n",
    "    fig.legend(loc='center')\n",
    "    figures[f'zalpha_slope_{zalpha_slope}'] = fig\n",
    "    \n",
    "    #Save data as TGraphs\n",
    "    graphs = {}\n",
    "    graphs['nsig'] = r.TGraph(len(xvalues), np.array(xvalues,dtype=float), np.array(nsigs,dtype=float))\n",
    "    graphs['nbkg'] = r.TGraph(len(xvalues), np.array(xvalues,dtype=float), np.array(nbkgs,dtype=float))\n",
    "    graphs['zbis'] = r.TGraph(len(xvalues), np.array(xvalues,dtype=float), np.array(zbis,dtype=float))\n",
    "    graphs['cut_values'] = r.TGraph(len(xvalues), np.array(xvalues,dtype=float), np.array(cut_values,dtype=float))\n",
    "    graphs['eff'] = r.TGraph(len(xvalues), np.array(xvalues,dtype=float), np.array(cut_values,dtype=float))\n",
    "    for key, graph in graphs.items():\n",
    "        outfile[f'{zalpha_subdir}/{key}_g'] = graph\n",
    "    \n",
    "    "
   ]
  },
  {
   "cell_type": "code",
   "execution_count": 18,
   "id": "6e049729-fec5-4b10-8f1b-6d7e289993bc",
   "metadata": {},
   "outputs": [
    {
     "name": "stderr",
     "output_type": "stream",
     "text": [
      "'texgyreheros-regular.otf' can not be subsetted into a Type 3 font. The entire font will be embedded in the output.\n"
     ]
    }
   ],
   "source": [
    "with PdfPages(f'{outdir}/mass_{mass}_zalpha_slope_plots.pdf') as pdf:\n",
    "    for fig in figures.values():\n",
    "        fig.axes[0].set_ylim(bottom=1,top=500000)\n",
    "        pdf.savefig(fig)\n",
    "    "
   ]
  },
  {
   "cell_type": "code",
   "execution_count": null,
   "id": "6990bffb-d37c-4430-83cb-159e2619b4da",
   "metadata": {},
   "outputs": [],
   "source": []
  },
  {
   "cell_type": "code",
   "execution_count": null,
   "id": "970fbcac-6de0-48e8-973d-c382fed898cd",
   "metadata": {},
   "outputs": [],
   "source": [
    "    def makeGraph(x,y,label='',xlabel='',ylabel='',title='',color='blue',logy=False):\n",
    "        #fig = plt.figure()\n",
    "        #ax = fig.add_subplot()\n",
    "        #plot = ax.plot(x, y, label=label, color=color)[0]\n",
    "        fig, ax = plt.subplots()\n",
    "        plot = ax.plot(x, y, label=label, color=color)[0]\n",
    "        ax.set_xlabel(xlabel)\n",
    "        ax.set_ylabel(ylabel)\n",
    "        ax.set_title(title)\n",
    "        ax.legend()\n",
    "        if logy:\n",
    "            ax.set_yscale('log')\n",
    "        return plot\n",
    "\n",
    "\n",
    "    #Graph results\n",
    "    xvalues = [i+1 for i in range(len(zbis))]\n",
    "    nsig_plot = makeGraph(xvalues, nsigs, label='Nsig', xlabel='Iteration', ylabel='Nsig',title='Expected Signal', color='blue')\n",
    "    nbkg_plot = makeGraph(xvalues, nbkgs, label='Nbkg', xlabel='Iteration', ylabel='Nbkg',title='Total Bkg Beyond Target in SR', color='red',logy=True)\n",
    "    zbi_plot = makeGraph(xvalues, zbis, label='ZBi', xlabel='Iteration', ylabel='ZBi',title='ZBi Significance', color='green')\n",
    "    #nsig_fig,nsig_ax = makeGraph(xvalues, nsigs, label='Nsig', xlabel='Iteration', ylabel='Nsig',title='Expected Signal', color='blue')\n",
    "    #nbkg_fig,nbkg_ax = makeGraph(xvalues, nbkgs, label='Nbkg', xlabel='Iteration', ylabel='Nbkg',title='Total Bkg Beyond Target in SR', color='red')\n",
    "    #zbi_fig,zbi_ax = makeGraph(xvalues, zbis, label='ZBi', xlabel='Iteration', ylabel='ZBi',title='ZBi Significance', color='green')"
   ]
  },
  {
   "cell_type": "code",
   "execution_count": null,
   "id": "943d4a1e-51b2-42cd-9866-d6461e674c57",
   "metadata": {},
   "outputs": [],
   "source": [
    "    '''\n",
    "    #overlayGraphs([zbi_plot, nsig_plot,nbkg_plot])\n",
    "    fig, ax = plt.subplots()\n",
    "    ax.plot(nsig_plot.get_xdata(), nsig_plot.get_ydata(), label=nsig_plot.get_label(),color=nsig_plot.get_color())\n",
    "    ax.set_yscale('log')\n",
    "    ax.set_ylabel('Nsig and Nbkg', color=nsig_plot.get_color())\n",
    "    ax.plot(nbkg_plot.get_xdata(), nbkg_plot.get_ydata(), label=nbkg_plot.get_label(),color=nbkg_plot.get_color())\n",
    "    ax.tick_params(axis='y',labelcolor=nsig_plot.get_color())\n",
    "    ax.set_ylim(bottom=0.0, top=500)\n",
    "    #ax.yaxis.set_major_locator(plt.MaxNLocator(nbins=20))\n",
    "    ax.yaxis.grid(True, linestyle='--', which='major', color='gray', alpha=0.7)\n",
    "\n",
    "    ax2=ax.twinx()\n",
    "    #ax2.set_yscale('log')\n",
    "    ax2.set_ylabel('ZBi', color=zbi_plot.get_color())\n",
    "    ax2.tick_params(axis='y',labelcolor=zbi_plot.get_color())\n",
    "    ax2.set_ylim(bottom=0.1, top=7)\n",
    "    ax2.plot(zbi_plot.get_xdata(), zbi_plot.get_ydata(), label=zbi_plot.get_label(),color=zbi_plot.get_color())\n",
    "\n",
    "    fig.legend(loc='center')\n",
    "    \n",
    "    fig.savefig(f'figures/zalpha_slope_{str(zalpha_slope)}_results.png')\n",
    "    final_figures[f'{zalpha_slope}'] = \n",
    "    '''\n",
    "    fig = plt.figure()\n",
    "    ax = fig.add_subplot()\n",
    "    ax.plot(nsig_plot.get_xdata(), nsig_plot.get_ydata(), label=nsig_plot.get_label(),color=nsig_plot.get_color())\n",
    "    ax.set_yscale('log')\n",
    "    ax.set_ylabel('Nsig and Nbkg', color=nsig_plot.get_color())\n",
    "    ax.plot(nbkg_plot.get_xdata(), nbkg_plot.get_ydata(), label=nbkg_plot.get_label(),color=nbkg_plot.get_color())\n",
    "    ax.tick_params(axis='y',labelcolor=nsig_plot.get_color())\n",
    "    ax.set_ylim(bottom=0.0, top=500)\n",
    "    #ax.yaxis.set_major_locator(plt.MaxNLocator(nbins=20))\n",
    "    ax.yaxis.grid(True, linestyle='--', which='major', color='gray', alpha=0.7)\n",
    "\n",
    "    ax2=ax.twinx()\n",
    "    #ax2.set_yscale('log')\n",
    "    ax2.set_ylabel('ZBi', color=zbi_plot.get_color())\n",
    "    ax2.tick_params(axis='y',labelcolor=zbi_plot.get_color())\n",
    "    ax2.set_ylim(bottom=0.1, top=7)\n",
    "    ax2.plot(zbi_plot.get_xdata(), zbi_plot.get_ydata(), label=zbi_plot.get_label(),color=zbi_plot.get_color())\n",
    "\n",
    "    fig.legend(loc='center')\n",
    "    \n",
    "    fig.savefig(f'figures/zalpha_slope_{str(zalpha_slope)}_results.png')\n",
    "    final_figures[f'{zalpha_slope}'] = fig\n",
    "\n",
    "print(\"done\")"
   ]
  },
  {
   "cell_type": "code",
   "execution_count": null,
   "id": "b94718fb-90b7-4b89-ac27-606d08d94da3",
   "metadata": {},
   "outputs": [],
   "source": [
    "    "
   ]
  },
  {
   "cell_type": "markdown",
   "id": "7a15a952-97f1-43f9-887e-e5ba28d3fef0",
   "metadata": {},
   "source": [
    "#Check cuts applied correctly\n",
    "print(signal_arrays[\"unc_vtx_proj_sig\"])\n",
    "v0projsig_sig_h = Hist(\n",
    "    hist.axis.Regular(100,0,10, name=\"unc_vtx_proj_sig_signal\", label=\"V0 Projection Significance\")\n",
    ")\n",
    "v0projsig_sig_h.fill(signal_arrays[\"unc_vtx_proj_sig\"])\n",
    "\n",
    "deltaZ_sig_h = Hist(\n",
    "    hist.axis.Regular(50,0,10, name=\"unc_vtx_deltaZ_signal\", label=\"deltaZ\")\n",
    ")\n",
    "deltaZ_sig_h.fill(signal_arrays[\"unc_vtx_deltaZ\"])\n",
    "\n",
    "fig, ax = plt.subplots()\n",
    "v0projsig_sig_h.plot()\n",
    "plt.show()\n",
    "\n",
    "fig, ax = plt.subplots()\n",
    "deltaZ_sig_h.plot()\n",
    "plt.show()"
   ]
  },
  {
   "cell_type": "markdown",
   "id": "c334650e-e982-4712-b5ea-e21b09d592eb",
   "metadata": {},
   "source": [
    "## **Relevant Files Have Been Loaded Above** ##"
   ]
  },
  {
   "cell_type": "markdown",
   "id": "8e298e4d-59fe-4e9a-bc28-7693c5252ccd",
   "metadata": {
    "tags": []
   },
   "source": [
    "## **Check Z0 parameters** ##"
   ]
  },
  {
   "cell_type": "markdown",
   "id": "4e2de4fb-1e28-48dd-89fa-e932241adee3",
   "metadata": {},
   "source": [
    "#Check parameter distributions\n",
    "impact_param_sig_hh = Hist(\n",
    "    hist.axis.Regular(100,-20,80, name=\"recon_z\",label=\"vtx z [mm]\"),\n",
    "    hist.axis.Regular(200,-5,5, name=\"track_z0\",label=\"track z0 [mm]\")\n",
    ")\n",
    "impact_param_sig_hh.fill(signal_arrays[\"unc_vtx_z\"], signal_arrays[\"unc_vtx_ele_track_z0\"]) \n",
    "impact_param_sig_hh.fill(signal_arrays[\"unc_vtx_z\"], signal_arrays[\"unc_vtx_pos_track_z0\"]) \n",
    "fig, ax = plt.subplots()\n",
    "impact_param_sig_hh.plot(cmap=cmap)\n",
    "plt.show()\n",
    "\n",
    "#ele track z0\n",
    "ele_track_z0_h = Hist(\n",
    "    hist.axis.Regular(100,-5,5, name=\"ele_track_z0_h\", label=\"ele track z0 [mm]\")\n",
    ")\n",
    "ele_track_z0_h.fill(signal_arrays[\"unc_vtx_ele_track_z0\"])\n",
    "mean = np.sum(ele_track_z0_h.axes[0].centers*ele_track_z0_h.values())/ele_track_z0_h.sum()\n",
    "print('ele track z0 mean:',mean)\n",
    "#ele track z0 correction = -0.58\n",
    "\n",
    "#pos track z0\n",
    "pos_track_z0_h = Hist(\n",
    "    hist.axis.Regular(100,-5,5, name=\"pos_track_z0_h\", label=\"pos track z0 [mm]\")\n",
    ")\n",
    "pos_track_z0_h.fill(signal_arrays[\"unc_vtx_pos_track_z0\"])\n",
    "mean = np.sum(pos_track_z0_h.axes[0].centers*pos_track_z0_h.values())/pos_track_z0_h.sum()\n",
    "print('pos track z0 mean:',mean)\n",
    "#pos track z0 correction = -0.98\n",
    "fig, ax = plt.subplots()\n",
    "ele_track_z0_h.plot(label='ele')\n",
    "pos_track_z0_h.plot(label='pos')\n",
    "plt.legend()\n",
    "plt.show()\n",
    "\n",
    "#All track z0\n",
    "track_z0_h = Hist(\n",
    "    hist.axis.Regular(100,-5,5, name=\"track_z0_h\", label=\"track z0 [mm]\")\n",
    ")\n",
    "track_z0_h.fill(signal_arrays[\"unc_vtx_ele_track_z0\"])\n",
    "track_z0_h.fill(signal_arrays[\"unc_vtx_pos_track_z0\"])\n",
    "track_z0_h.plot()\n",
    "mean = np.sum(track_z0_h.axes[0].centers*track_z0_h.values())/track_z0_h.sum()\n",
    "print('trackz z0 mean:',mean)\n",
    "plt.show()\n",
    "\n",
    "#Check z0/tanlambda\n",
    "z0tanlambda_sig_hh = Hist(\n",
    "    hist.axis.Regular(400,-150,50, name=\"z0/tanlambda\",label=\"z0/tanlambda\"),\n",
    "    hist.axis.Regular(180,-20,70, name=\"recon_z\",label=\"vtx z [mm]\")\n",
    ")\n",
    "z0tanlambda_sig_hh.fill(signal_arrays[\"unc_vtx_ele_track_z0\"]/signal_arrays[\"unc_vtx_ele_track_tanLambda\"],signal_arrays[\"unc_vtx_z\"])\n",
    "z0tanlambda_sig_hh.fill(signal_arrays[\"unc_vtx_pos_track_z0\"]/signal_arrays[\"unc_vtx_pos_track_tanLambda\"],signal_arrays[\"unc_vtx_z\"])\n",
    "z0tanlambda_sig_hh.plot(cmap=cmap)\n",
    "plt.show()\n"
   ]
  },
  {
   "cell_type": "markdown",
   "id": "927c2273-c854-438d-8eae-9c384713fd09",
   "metadata": {},
   "source": [
    "## **Create Zalpha and add to tree** ##"
   ]
  },
  {
   "cell_type": "markdown",
   "id": "0abcf805-a6ca-474d-9b66-0eb754799555",
   "metadata": {},
   "source": [
    "slope = 0.01\n",
    "def zalphaTransformation(slope, recon_z, z0):\n",
    "    condition = z0 > 0.0\n",
    "    zalpha = ak.where(condition, recon_z - (z0/slope), recon_z + (z0/slope))\n",
    "    return zalpha\n",
    "max_zalpha_arr = np.maximum(zalphaTransformation(slope,signal_arrays[\"unc_vtx_z\"],signal_arrays[\"unc_vtx_ele_track_z0\"]),\n",
    "                            zalphaTransformation(slope,signal_arrays[\"unc_vtx_z\"],signal_arrays[\"unc_vtx_pos_track_z0\"]))\n",
    "signal_arrays[\"unc_vtx_zalpha_max\"] = max_zalpha_arr\n",
    "signal_arrays.fields\n",
    "#Plot zalpha \n",
    "zalpha_sig_hh = Hist(\n",
    "    hist.axis.Regular(200,-20,80, name=\"recon_z\",label=\"vtx z [mm]\"),\n",
    "    hist.axis.Regular(1200,-300,100, name=\"zalpha_max\",label=f'zalpha({slope}) max')\n",
    ")\n",
    "zalpha_sig_hh.fill(signal_arrays[\"unc_vtx_z\"], signal_arrays[\"unc_vtx_zalpha_max\"])\n",
    "fig, ax = plt.subplots()\n",
    "zalpha_sig_hh.plot(cmap=cmap)\n",
    "plt.show()\n"
   ]
  },
  {
   "cell_type": "markdown",
   "id": "c529788d-fb2b-4461-ae86-a261752bd4a1",
   "metadata": {},
   "source": [
    "h = hist.Hist.new.Reg(50,0,20,name=\"V0ProjSig\",label=\"V0ProjSig Nsigma\").Weight()\n",
    "h.fill(signal_arrays[\"unc_vtx_proj_sig\"])\n",
    "plt.ylabel(\"Events\")\n",
    "plt.xlabel(\"V0ProjSig\")\n",
    "h.plot()\n",
    "\n",
    "#for branch in tree_branches:\n",
    "#    signal_tree[branch].to_hist()"
   ]
  },
  {
   "cell_type": "code",
   "execution_count": null,
   "id": "83b3ac9e-dcc8-48dd-81c9-68edd6737970",
   "metadata": {},
   "outputs": [],
   "source": []
  },
  {
   "cell_type": "code",
   "execution_count": null,
   "id": "96b83e7e-cdfa-494a-8765-1f628cf91cc6",
   "metadata": {},
   "outputs": [],
   "source": []
  },
  {
   "cell_type": "code",
   "execution_count": null,
   "id": "e4025d72-d0d5-44dc-88e7-c74b0e58079d",
   "metadata": {},
   "outputs": [],
   "source": []
  }
 ],
 "metadata": {
  "kernelspec": {
   "display_name": "Python 3",
   "language": "python",
   "name": "python3"
  },
  "language_info": {
   "codemirror_mode": {
    "name": "ipython",
    "version": 3
   },
   "file_extension": ".py",
   "mimetype": "text/x-python",
   "name": "python",
   "nbconvert_exporter": "python",
   "pygments_lexer": "ipython3",
   "version": "3.6.8"
  }
 },
 "nbformat": 4,
 "nbformat_minor": 5
}
