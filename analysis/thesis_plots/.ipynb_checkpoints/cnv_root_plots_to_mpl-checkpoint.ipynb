{
 "cells": [
  {
   "cell_type": "code",
   "execution_count": 1,
   "id": "8474dcd5-d04b-4819-923a-061185f1b28a",
   "metadata": {},
   "outputs": [
    {
     "name": "stdout",
     "output_type": "stream",
     "text": [
      "Welcome to JupyROOT 6.28/06\n"
     ]
    }
   ],
   "source": [
    "import ROOT as r\n",
    "import numpy as np\n",
    "\n"
   ]
  },
  {
   "cell_type": "code",
   "execution_count": 31,
   "id": "ed040143-edd9-4ef8-bcc6-6f6a1e653f9e",
   "metadata": {},
   "outputs": [],
   "source": [
    "def statsBoxPos(x1=0.7, y1=0.9, width = 0.2, height = 0.2):\n",
    "    r.gStyle.SetOptStat(1)\n",
    "    r.gStyle.SetStatX(x1)\n",
    "    r.gStyle.SetStatY(y1)\n",
    "    r.gStyle.SetStatW(width)\n",
    "    r.gStyle.SetStatH(height)\n",
    "\n",
    "def setTitle(hist, title=None, xlabel=None, ylabel=None, showTitle=False):\n",
    "    if title is not None:\n",
    "        hist.SetTitle(title)\n",
    "    if xlabel is not None:\n",
    "        hist.GetXaxis().SetTitle(xlabel)\n",
    "    if ylabel is not None:\n",
    "        hist.GetYaxis().SetTitle(ylabel)\n",
    "    if showTitle:\n",
    "        r.gStyle.SetOptTitle(1)\n",
    "    else:\n",
    "        r.gStyle.SetOptTitle(0)\n",
    "        \n",
    "def drawHist(hist, canvas_name, size=(2400,1200), logX=False, logY=False, logZ=False\n"
   ]
  },
  {
   "cell_type": "code",
   "execution_count": 29,
   "id": "b6a79ee7-6263-4ee9-b19d-af7791473f1f",
   "metadata": {},
   "outputs": [
    {
     "name": "stderr",
     "output_type": "stream",
     "text": [
      "Info in <TCanvas::Print>: png file ./test.png has been created\n"
     ]
    }
   ],
   "source": [
    "#V0 Projection Significance Data\n",
    "data_f = '/sdf/group/hps/users/alspellm/projects/THESIS/data/2016/BLPass4c_20231006/ana_20231019/full_hadd_blpass4c_ana.root'\n",
    "infile = r.TFile(data_f,\"READ\")\n",
    "v0projsig_hh = infile.Get(\"vtxana_Tight_L1L1_nvtx1/vtxana_Tight_L1L1_nvtx1_recon_z_v_vtx_proj_significance_hh\")\n",
    "c = r.TCanvas('c','c',2400,1400)\n",
    "c.cd()\n",
    "v0projsig_hh.Draw(\"colz\")\n",
    "statsBoxPos()\n",
    "setTitle(v0projsig_hh, showTitle=False)\n",
    "c.Draw()\n",
    "c.SaveAs('./test.png')\n",
    "infile.Close()\n",
    "c.Close()"
   ]
  },
  {
   "cell_type": "code",
   "execution_count": null,
   "id": "ce17ee7d-868f-4f45-a365-3340936d7e0d",
   "metadata": {},
   "outputs": [],
   "source": []
  }
 ],
 "metadata": {
  "kernelspec": {
   "display_name": "Python 3",
   "language": "python",
   "name": "python3"
  },
  "language_info": {
   "codemirror_mode": {
    "name": "ipython",
    "version": 3
   },
   "file_extension": ".py",
   "mimetype": "text/x-python",
   "name": "python",
   "nbconvert_exporter": "python",
   "pygments_lexer": "ipython3",
   "version": "3.6.8"
  }
 },
 "nbformat": 4,
 "nbformat_minor": 5
}
